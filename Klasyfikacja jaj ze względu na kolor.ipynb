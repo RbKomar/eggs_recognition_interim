{
 "cells": [
  {
   "cell_type": "code",
   "execution_count": 22,
   "metadata": {},
   "outputs": [],
   "source": [
    "from SCreator import FileReader\n",
    "import pandas as pd\n",
    "import numpy as np\n",
    "import matplotlib.pyplot as plt\n",
    "import seaborn as sns\n",
    "from scipy import stats\n",
    "\n",
    "from sklearn.model_selection import train_test_split\n",
    "from sklearn.preprocessing import StandardScaler\n",
    "from sklearn.model_selection import GridSearchCV\n",
    "\n",
    "from sklearn.metrics import classification_report\n",
    "from sklearn.metrics import accuracy_score\n",
    "\n",
    "from sklearn.svm import SVC\n",
    "from xgboost.sklearn import XGBClassifier as xgb\n"
   ]
  },
  {
   "cell_type": "code",
   "execution_count": 23,
   "metadata": {},
   "outputs": [],
   "source": [
    "def static_vars(**kwargs):\n",
    "    def decorate(func):\n",
    "        for k in kwargs:\n",
    "            setattr(func, k, kwargs[k])\n",
    "        return func\n",
    "    return decorate\n"
   ]
  },
  {
   "cell_type": "code",
   "execution_count": 24,
   "metadata": {},
   "outputs": [],
   "source": [
    "def create_base_data(data, dest_data, x_range):\n",
    "    for i in range(len(data)):\n",
    "        mini_frame = []\n",
    "        mini_frame.append(data[i].average_for_samples(x_range[0],x_range[1]))\n",
    "        part_of_egg = ''.join(filter(lambda x: not x.isdigit(), data[i].samples[0].part_class))\n",
    "        mini_frame.append(''.join(filter(lambda x: not x.isdigit(), part_of_egg)))\n",
    "        mini_frame.append(not data[i].samples[0].ill)\n",
    "        dest_data.append(mini_frame)\n",
    "\n",
    "@static_vars(area_counter=1)      \n",
    "def add_another_area(data_white, data_dark, dest_df, x_range):\n",
    "    area_to_append = []\n",
    "    for j in range(len(data_white)):\n",
    "        for i in range(len(data_white[j])):\n",
    "            area_to_append.append(data_white[j][i].average_for_samples(x_range[0],x_range[1]))\n",
    "    for j in range(len(data_dark)):\n",
    "        for i in range(len(data_dark[j])):\n",
    "            area_to_append.append(data_dark[j][i].average_for_samples(x_range[0],x_range[1])) \n",
    "    dest_df[\"Area_\" + str(add_another_area.area_counter)] = pd.DataFrame(area_to_append)\n",
    "    add_another_area.area_counter +=1"
   ]
  },
  {
   "cell_type": "code",
   "execution_count": 25,
   "metadata": {},
   "outputs": [],
   "source": [
    "def run_cv(model, x_train, y_train, x_test, y_test):\n",
    "    model.fit(x_train, y_train)\n",
    "    model_pred = model.predict(x_test)\n",
    "    \n",
    "    print(\"Accuracy: \", accuracy_score(y_test, model_pred))\n",
    "    print(classification_report(y_test, model_pred))\n",
    "    return model\n",
    "\n",
    "def run_gs_fine(c_pow, gamma_pow,x_train_scaled,y_train ):\n",
    "    c_powers = [pow(2, i) for i in np.arange(c_pow-2, c_pow+2, 0.25)]\n",
    "    gamma_powers = [pow(2, i) for i in np.arange(gamma_pow-2, gamma_pow+2, 0.25)]\n",
    "    parameters = {'C': c_powers, \n",
    "              'gamma': gamma_powers,\n",
    "              'kernel': ['rbf']}\n",
    "    \n",
    "    grid_svc = GridSearchCV(SVC(), param_grid=parameters, scoring='accuracy')\n",
    "    grid_svc.fit(x_train_scaled, y_train)\n",
    "    return grid_svc.best_params_\n",
    "    \n",
    "def run_gs(x_train_scaled,y_train):\n",
    "    c_powers = [pow(2, i) for i in range(-5, 16,2)]\n",
    "    gamma_powers = [pow(2, i) for i in range(-15, 4,2)]\n",
    "    parameters = {'C': c_powers, \n",
    "              'gamma': gamma_powers,\n",
    "              'kernel': ['rbf']}\n",
    "    grid_svc = GridSearchCV(SVC(), param_grid=parameters, scoring='accuracy')\n",
    "    grid_svc.fit(x_train_scaled, y_train)\n",
    "    return run_gs_fine(np.log2(grid_svc.best_params_ ['C']), np.log2(grid_svc.best_params_ ['gamma']),x_train_scaled,y_train)"
   ]
  },
  {
   "cell_type": "code",
   "execution_count": 26,
   "metadata": {},
   "outputs": [],
   "source": [
    "eggs_healthy = []\n",
    "eggs_ill = []\n",
    "dir_path_healthy = 'data2k17/Healthy_white/'\n",
    "dir_path_ill = 'data2k17/ill_white/'\n",
    "dir_path_healthy_dark = 'data2k17/Healthy_dark/'\n",
    "dir_path_ill_dark = 'data2k17/ill_dark/'"
   ]
  },
  {
   "cell_type": "code",
   "execution_count": 27,
   "metadata": {},
   "outputs": [],
   "source": [
    "eggs_healthy = FileReader.FileReader(dir_path_healthy).read_files()\n",
    "eggs_healthy_dark = FileReader.FileReader(dir_path_healthy_dark).read_files()\n",
    "eggs_ill = FileReader.FileReader(dir_path_ill).read_files()\n",
    "eggs_ill_dark = FileReader.FileReader(dir_path_ill_dark).read_files()"
   ]
  },
  {
   "cell_type": "code",
   "execution_count": 28,
   "metadata": {},
   "outputs": [],
   "source": [
    "data_white = []\n",
    "data_dark = []\n",
    "df = pd.DataFrame()\n",
    "x_range = [640, 650]"
   ]
  },
  {
   "cell_type": "code",
   "execution_count": 29,
   "metadata": {},
   "outputs": [],
   "source": [
    "create_base_data(eggs_healthy, data_white, x_range)\n",
    "create_base_data(eggs_ill, data_white, x_range)\n",
    "create_base_data(eggs_healthy_dark, data_dark, x_range)\n",
    "create_base_data(eggs_ill_dark, data_dark, x_range)"
   ]
  },
  {
   "cell_type": "code",
   "execution_count": 30,
   "metadata": {},
   "outputs": [],
   "source": [
    "df_white = pd.DataFrame(data_white, columns = [\"Area\", \"EggPart\", \"Healthy\"])\n",
    "df_dark = pd.DataFrame(data_dark, columns = [\"Area\", \"EggPart\", \"Healthy\"])"
   ]
  },
  {
   "cell_type": "code",
   "execution_count": 31,
   "metadata": {},
   "outputs": [],
   "source": [
    "df_white[\"Color\"] = 1\n",
    "df_dark[\"Color\"] = 0"
   ]
  },
  {
   "cell_type": "code",
   "execution_count": 32,
   "metadata": {},
   "outputs": [],
   "source": [
    "df = pd.concat([df_white, df_dark])"
   ]
  },
  {
   "cell_type": "code",
   "execution_count": 33,
   "metadata": {},
   "outputs": [
    {
     "data": {
      "text/html": [
       "<div>\n",
       "<style scoped>\n",
       "    .dataframe tbody tr th:only-of-type {\n",
       "        vertical-align: middle;\n",
       "    }\n",
       "\n",
       "    .dataframe tbody tr th {\n",
       "        vertical-align: top;\n",
       "    }\n",
       "\n",
       "    .dataframe thead tr th {\n",
       "        text-align: left;\n",
       "    }\n",
       "\n",
       "    .dataframe thead tr:last-of-type th {\n",
       "        text-align: right;\n",
       "    }\n",
       "</style>\n",
       "<table border=\"1\" class=\"dataframe\">\n",
       "  <thead>\n",
       "    <tr>\n",
       "      <th></th>\n",
       "      <th colspan=\"8\" halign=\"left\">Area</th>\n",
       "    </tr>\n",
       "    <tr>\n",
       "      <th></th>\n",
       "      <th>count</th>\n",
       "      <th>mean</th>\n",
       "      <th>std</th>\n",
       "      <th>min</th>\n",
       "      <th>25%</th>\n",
       "      <th>50%</th>\n",
       "      <th>75%</th>\n",
       "      <th>max</th>\n",
       "    </tr>\n",
       "    <tr>\n",
       "      <th>Color</th>\n",
       "      <th></th>\n",
       "      <th></th>\n",
       "      <th></th>\n",
       "      <th></th>\n",
       "      <th></th>\n",
       "      <th></th>\n",
       "      <th></th>\n",
       "      <th></th>\n",
       "    </tr>\n",
       "  </thead>\n",
       "  <tbody>\n",
       "    <tr>\n",
       "      <th>0</th>\n",
       "      <td>213.0</td>\n",
       "      <td>28.946952</td>\n",
       "      <td>10.423547</td>\n",
       "      <td>9.836433</td>\n",
       "      <td>21.373207</td>\n",
       "      <td>26.739276</td>\n",
       "      <td>35.813959</td>\n",
       "      <td>63.086545</td>\n",
       "    </tr>\n",
       "    <tr>\n",
       "      <th>1</th>\n",
       "      <td>297.0</td>\n",
       "      <td>57.147289</td>\n",
       "      <td>8.849013</td>\n",
       "      <td>36.189377</td>\n",
       "      <td>50.996917</td>\n",
       "      <td>56.868051</td>\n",
       "      <td>63.580707</td>\n",
       "      <td>76.569794</td>\n",
       "    </tr>\n",
       "  </tbody>\n",
       "</table>\n",
       "</div>"
      ],
      "text/plain": [
       "        Area                                                         \\\n",
       "       count       mean        std        min        25%        50%   \n",
       "Color                                                                 \n",
       "0      213.0  28.946952  10.423547   9.836433  21.373207  26.739276   \n",
       "1      297.0  57.147289   8.849013  36.189377  50.996917  56.868051   \n",
       "\n",
       "                             \n",
       "             75%        max  \n",
       "Color                        \n",
       "0      35.813959  63.086545  \n",
       "1      63.580707  76.569794  "
      ]
     },
     "execution_count": 33,
     "metadata": {},
     "output_type": "execute_result"
    }
   ],
   "source": [
    "df.groupby(\"Color\").describe()"
   ]
  },
  {
   "cell_type": "code",
   "execution_count": 34,
   "metadata": {},
   "outputs": [],
   "source": [
    "df.drop([\"Healthy\"], axis=1, inplace = True)"
   ]
  },
  {
   "cell_type": "code",
   "execution_count": 35,
   "metadata": {},
   "outputs": [],
   "source": [
    "df.reset_index(drop = True, inplace = True)"
   ]
  },
  {
   "cell_type": "code",
   "execution_count": 36,
   "metadata": {},
   "outputs": [],
   "source": [
    "part_mapping = {'a' : 1, 'h' : 2, 'z' : 3, 'c' : 4, 'hh' : 5, 'zz' : 6, 'b' : 7}\n",
    "df[\"EggPart\"] = df[\"EggPart\"].map(part_mapping)"
   ]
  },
  {
   "cell_type": "markdown",
   "metadata": {},
   "source": [
    "# Step 1 only sick or healthy division"
   ]
  },
  {
   "cell_type": "code",
   "execution_count": 37,
   "metadata": {},
   "outputs": [],
   "source": [
    "dir_path_healthy = 'data2k17/Healthy_white/'\n",
    "dir_path_healthy_dark = 'data2k17/Healthy_dark/'\n",
    "data_white = []\n",
    "data_dark = []\n",
    "df = pd.DataFrame()\n",
    "x_range = [640, 650]"
   ]
  },
  {
   "cell_type": "code",
   "execution_count": 38,
   "metadata": {},
   "outputs": [],
   "source": [
    "eggs_healthy = FileReader.FileReader(dir_path_healthy).read_files()\n",
    "eggs_healthy_dark = FileReader.FileReader(dir_path_healthy_dark).read_files()\n",
    "create_base_data(eggs_healthy, data_white, x_range)\n",
    "create_base_data(eggs_healthy_dark, data_dark, x_range)"
   ]
  },
  {
   "cell_type": "code",
   "execution_count": 39,
   "metadata": {},
   "outputs": [],
   "source": [
    "df_white = pd.DataFrame(data_white, columns = [\"Area\", \"EggPart\", \"Healthy\"])\n",
    "df_dark = pd.DataFrame(data_dark, columns = [\"Area\", \"EggPart\", \"Healthy\"])\n",
    "df_white[\"Color\"] = 1\n",
    "df_dark[\"Color\"] = 0\n",
    "df = pd.concat([df_white, df_dark])\n",
    "df.drop([\"Healthy\"], axis=1, inplace = True)\n",
    "df.reset_index(drop = True, inplace = True)\n",
    "part_mapping = {'a' : 1, 'h' : 2, 'z' : 3, 'c' : 4, 'hh' : 5, 'zz' : 6, 'b' : 7}\n",
    "df[\"EggPart\"] = df[\"EggPart\"].map(part_mapping)"
   ]
  },
  {
   "cell_type": "code",
   "execution_count": 40,
   "metadata": {},
   "outputs": [],
   "source": [
    "x = df.drop('Color', axis=1)\n",
    "y = df['Color']\n",
    "x_train, x_test, y_train, y_test = train_test_split(x, y, test_size=0.2, random_state=42)\n",
    "sc = StandardScaler()\n",
    "x_train_scaled, x_test_scaled = sc.fit_transform(x_train), sc.fit_transform(x_test)\n",
    "gs_params = run_gs(x_train_scaled, y_train)\n",
    "svc = SVC(C=gs_params[\"C\"], gamma= gs_params[\"gamma\"])"
   ]
  },
  {
   "cell_type": "code",
   "execution_count": 41,
   "metadata": {
    "scrolled": false
   },
   "outputs": [
    {
     "name": "stdout",
     "output_type": "stream",
     "text": [
      "Accuracy:  1.0\n",
      "              precision    recall  f1-score   support\n",
      "\n",
      "           0       1.00      1.00      1.00        23\n",
      "           1       1.00      1.00      1.00        20\n",
      "\n",
      "    accuracy                           1.00        43\n",
      "   macro avg       1.00      1.00      1.00        43\n",
      "weighted avg       1.00      1.00      1.00        43\n",
      "\n"
     ]
    }
   ],
   "source": [
    "svc = run_cv(svc, x_train_scaled, y_train, x_test_scaled, y_test)"
   ]
  },
  {
   "cell_type": "markdown",
   "metadata": {},
   "source": [
    "# Step 2 without the division"
   ]
  },
  {
   "cell_type": "code",
   "execution_count": 42,
   "metadata": {},
   "outputs": [],
   "source": [
    "eggs_healthy = []\n",
    "eggs_healthy_dark = []\n",
    "eggs_ill = []\n",
    "eggs_ill_dark = []\n",
    "dir_path_healthy = 'data2k17/Healthy_white/'\n",
    "dir_path_ill = 'data2k17/ill_white/'\n",
    "dir_path_healthy_dark = 'data2k17/Healthy_dark/'\n",
    "dir_path_ill_dark = 'data2k17/ill_dark/'"
   ]
  },
  {
   "cell_type": "code",
   "execution_count": 43,
   "metadata": {},
   "outputs": [],
   "source": [
    "eggs_healthy = FileReader.FileReader(dir_path_healthy).read_files()\n",
    "eggs_healthy_dark = FileReader.FileReader(dir_path_healthy_dark).read_files()\n",
    "eggs_ill = FileReader.FileReader(dir_path_ill).read_files()\n",
    "eggs_ill_dark = FileReader.FileReader(dir_path_ill_dark).read_files()"
   ]
  },
  {
   "cell_type": "code",
   "execution_count": 44,
   "metadata": {},
   "outputs": [],
   "source": [
    "data_white = []\n",
    "data_dark = []\n",
    "df = pd.DataFrame()\n",
    "x_range = [640, 650]"
   ]
  },
  {
   "cell_type": "code",
   "execution_count": 45,
   "metadata": {},
   "outputs": [],
   "source": [
    "create_base_data(eggs_healthy, data_white, x_range)\n",
    "create_base_data(eggs_ill, data_white, x_range)\n",
    "create_base_data(eggs_healthy_dark, data_dark, x_range)\n",
    "create_base_data(eggs_ill_dark, data_dark, x_range)"
   ]
  },
  {
   "cell_type": "code",
   "execution_count": 46,
   "metadata": {},
   "outputs": [],
   "source": [
    "df_white = pd.DataFrame(data_white, columns = [\"Area\", \"EggPart\", \"Healthy\"])\n",
    "df_dark = pd.DataFrame(data_dark, columns = [\"Area\", \"EggPart\", \"Healthy\"])\n",
    "df_white[\"Color\"] = 1\n",
    "df_dark[\"Color\"] = 0\n",
    "df = pd.concat([df_white, df_dark])\n",
    "df.drop([\"Healthy\"], axis=1, inplace = True)\n",
    "df.reset_index(drop = True, inplace = True)\n",
    "part_mapping = {'a' : 1, 'h' : 2, 'z' : 3, 'c' : 4, 'hh' : 5, 'zz' : 6, 'b' : 7}\n",
    "df[\"EggPart\"] = df[\"EggPart\"].map(part_mapping)"
   ]
  },
  {
   "cell_type": "code",
   "execution_count": 47,
   "metadata": {},
   "outputs": [],
   "source": [
    "x = df.drop('Color', axis=1)\n",
    "y = df['Color']\n",
    "x_train, x_test, y_train, y_test = train_test_split(x, y, test_size=0.2, random_state=42)\n",
    "sc = StandardScaler()\n",
    "x_train_scaled, x_test_scaled = sc.fit_transform(x_train), sc.fit_transform(x_test)\n",
    "gs_params = run_gs(x_train_scaled, y_train)\n",
    "svc = SVC(C=gs_params[\"C\"], gamma= gs_params[\"gamma\"])"
   ]
  },
  {
   "cell_type": "code",
   "execution_count": 48,
   "metadata": {},
   "outputs": [
    {
     "name": "stdout",
     "output_type": "stream",
     "text": [
      "Accuracy:  0.9215686274509803\n",
      "              precision    recall  f1-score   support\n",
      "\n",
      "           0       1.00      0.82      0.90        44\n",
      "           1       0.88      1.00      0.94        58\n",
      "\n",
      "    accuracy                           0.92       102\n",
      "   macro avg       0.94      0.91      0.92       102\n",
      "weighted avg       0.93      0.92      0.92       102\n",
      "\n"
     ]
    }
   ],
   "source": [
    "svc = run_cv(svc, x_train_scaled, y_train, x_test_scaled, y_test)"
   ]
  },
  {
   "cell_type": "code",
   "execution_count": 49,
   "metadata": {},
   "outputs": [],
   "source": [
    "mxgb = xgb(colsample_bytree=0.4603, gamma=0.0468, \n",
    "                             learning_rate=0.01, max_depth=4, \n",
    "                             min_child_weight=1.7817, n_estimators=2200,\n",
    "                             reg_alpha=0.3, reg_lambda=0.8571,\n",
    "                             subsample=0.5213, silent=1,\n",
    "                             random_state =2, nthread = -1)"
   ]
  },
  {
   "cell_type": "code",
   "execution_count": 51,
   "metadata": {},
   "outputs": [
    {
     "name": "stdout",
     "output_type": "stream",
     "text": [
      "Accuracy:  0.9313725490196079\n",
      "              precision    recall  f1-score   support\n",
      "\n",
      "           0       1.00      0.84      0.91        44\n",
      "           1       0.89      1.00      0.94        58\n",
      "\n",
      "    accuracy                           0.93       102\n",
      "   macro avg       0.95      0.92      0.93       102\n",
      "weighted avg       0.94      0.93      0.93       102\n",
      "\n"
     ]
    }
   ],
   "source": [
    "mxg = run_cv(mxgb, x_train_scaled, y_train, x_test_scaled, y_test)"
   ]
  },
  {
   "cell_type": "markdown",
   "metadata": {},
   "source": [
    "### adding another area\n"
   ]
  },
  {
   "cell_type": "code",
   "execution_count": 52,
   "metadata": {},
   "outputs": [],
   "source": [
    "add_another_area([eggs_healthy, eggs_ill], [eggs_healthy_dark, eggs_ill_dark], df, [520, 540])"
   ]
  },
  {
   "cell_type": "code",
   "execution_count": 53,
   "metadata": {},
   "outputs": [
    {
     "data": {
      "text/html": [
       "<div>\n",
       "<style scoped>\n",
       "    .dataframe tbody tr th:only-of-type {\n",
       "        vertical-align: middle;\n",
       "    }\n",
       "\n",
       "    .dataframe tbody tr th {\n",
       "        vertical-align: top;\n",
       "    }\n",
       "\n",
       "    .dataframe thead tr th {\n",
       "        text-align: left;\n",
       "    }\n",
       "\n",
       "    .dataframe thead tr:last-of-type th {\n",
       "        text-align: right;\n",
       "    }\n",
       "</style>\n",
       "<table border=\"1\" class=\"dataframe\">\n",
       "  <thead>\n",
       "    <tr>\n",
       "      <th></th>\n",
       "      <th colspan=\"8\" halign=\"left\">Area</th>\n",
       "      <th colspan=\"5\" halign=\"left\">EggPart</th>\n",
       "      <th colspan=\"8\" halign=\"left\">Area_1</th>\n",
       "    </tr>\n",
       "    <tr>\n",
       "      <th></th>\n",
       "      <th>count</th>\n",
       "      <th>mean</th>\n",
       "      <th>std</th>\n",
       "      <th>min</th>\n",
       "      <th>25%</th>\n",
       "      <th>50%</th>\n",
       "      <th>75%</th>\n",
       "      <th>max</th>\n",
       "      <th>count</th>\n",
       "      <th>mean</th>\n",
       "      <th>...</th>\n",
       "      <th>75%</th>\n",
       "      <th>max</th>\n",
       "      <th>count</th>\n",
       "      <th>mean</th>\n",
       "      <th>std</th>\n",
       "      <th>min</th>\n",
       "      <th>25%</th>\n",
       "      <th>50%</th>\n",
       "      <th>75%</th>\n",
       "      <th>max</th>\n",
       "    </tr>\n",
       "    <tr>\n",
       "      <th>Color</th>\n",
       "      <th></th>\n",
       "      <th></th>\n",
       "      <th></th>\n",
       "      <th></th>\n",
       "      <th></th>\n",
       "      <th></th>\n",
       "      <th></th>\n",
       "      <th></th>\n",
       "      <th></th>\n",
       "      <th></th>\n",
       "      <th></th>\n",
       "      <th></th>\n",
       "      <th></th>\n",
       "      <th></th>\n",
       "      <th></th>\n",
       "      <th></th>\n",
       "      <th></th>\n",
       "      <th></th>\n",
       "      <th></th>\n",
       "      <th></th>\n",
       "      <th></th>\n",
       "    </tr>\n",
       "  </thead>\n",
       "  <tbody>\n",
       "    <tr>\n",
       "      <th>0</th>\n",
       "      <td>213.0</td>\n",
       "      <td>28.946952</td>\n",
       "      <td>10.423547</td>\n",
       "      <td>9.836433</td>\n",
       "      <td>21.373207</td>\n",
       "      <td>26.739276</td>\n",
       "      <td>35.813959</td>\n",
       "      <td>63.086545</td>\n",
       "      <td>213.0</td>\n",
       "      <td>3.502347</td>\n",
       "      <td>...</td>\n",
       "      <td>4.0</td>\n",
       "      <td>7.0</td>\n",
       "      <td>213.0</td>\n",
       "      <td>8.104326</td>\n",
       "      <td>5.848968</td>\n",
       "      <td>1.195959</td>\n",
       "      <td>3.912728</td>\n",
       "      <td>6.148381</td>\n",
       "      <td>10.487539</td>\n",
       "      <td>33.450559</td>\n",
       "    </tr>\n",
       "    <tr>\n",
       "      <th>1</th>\n",
       "      <td>297.0</td>\n",
       "      <td>57.147289</td>\n",
       "      <td>8.849013</td>\n",
       "      <td>36.189377</td>\n",
       "      <td>50.996917</td>\n",
       "      <td>56.868051</td>\n",
       "      <td>63.580707</td>\n",
       "      <td>76.569794</td>\n",
       "      <td>297.0</td>\n",
       "      <td>3.380471</td>\n",
       "      <td>...</td>\n",
       "      <td>4.0</td>\n",
       "      <td>7.0</td>\n",
       "      <td>297.0</td>\n",
       "      <td>38.993289</td>\n",
       "      <td>10.657778</td>\n",
       "      <td>13.352884</td>\n",
       "      <td>30.928805</td>\n",
       "      <td>39.505652</td>\n",
       "      <td>47.222955</td>\n",
       "      <td>65.083870</td>\n",
       "    </tr>\n",
       "  </tbody>\n",
       "</table>\n",
       "<p>2 rows × 24 columns</p>\n",
       "</div>"
      ],
      "text/plain": [
       "        Area                                                         \\\n",
       "       count       mean        std        min        25%        50%   \n",
       "Color                                                                 \n",
       "0      213.0  28.946952  10.423547   9.836433  21.373207  26.739276   \n",
       "1      297.0  57.147289   8.849013  36.189377  50.996917  56.868051   \n",
       "\n",
       "                            EggPart            ...           Area_1  \\\n",
       "             75%        max   count      mean  ...  75%  max  count   \n",
       "Color                                          ...                    \n",
       "0      35.813959  63.086545   213.0  3.502347  ...  4.0  7.0  213.0   \n",
       "1      63.580707  76.569794   297.0  3.380471  ...  4.0  7.0  297.0   \n",
       "\n",
       "                                                                         \\\n",
       "            mean        std        min        25%        50%        75%   \n",
       "Color                                                                     \n",
       "0       8.104326   5.848968   1.195959   3.912728   6.148381  10.487539   \n",
       "1      38.993289  10.657778  13.352884  30.928805  39.505652  47.222955   \n",
       "\n",
       "                  \n",
       "             max  \n",
       "Color             \n",
       "0      33.450559  \n",
       "1      65.083870  \n",
       "\n",
       "[2 rows x 24 columns]"
      ]
     },
     "execution_count": 53,
     "metadata": {},
     "output_type": "execute_result"
    }
   ],
   "source": [
    "df.groupby(\"Color\").describe()"
   ]
  },
  {
   "cell_type": "code",
   "execution_count": 54,
   "metadata": {},
   "outputs": [
    {
     "data": {
      "image/png": "[encoded data removed]",
      "text/plain": [
       "<Figure size 864x576 with 1 Axes>"
      ]
     },
     "metadata": {
      "needs_background": "light"
     },
     "output_type": "display_data"
    }
   ],
   "source": [
    "fig, ax = plt.subplots(figsize=(12,8))\n",
    "ax.scatter(df['Color'], df['Area_1'])\n",
    "ax.set_xlabel('Color')\n",
    "ax.set_ylabel('Area_2')\n",
    "ax.xaxis.set_ticks(np.arange(0, 1.1, 1))\n",
    "fig.savefig('imgs/with-outliers.png' , dpi=700)\n",
    "plt.show()"
   ]
  },
  {
   "cell_type": "code",
   "execution_count": 55,
   "metadata": {},
   "outputs": [],
   "source": [
    "x = df.drop('Color', axis=1)\n",
    "y = df['Color']\n",
    "x_train, x_test, y_train, y_test = train_test_split(x, y, test_size=0.2, random_state=42)\n",
    "sc = StandardScaler()\n",
    "x_train_scaled, x_test_scaled = sc.fit_transform(x_train), sc.fit_transform(x_test)\n",
    "gs_params = run_gs(x_train_scaled, y_train)\n",
    "svc = SVC(C=gs_params[\"C\"], gamma= gs_params[\"gamma\"])"
   ]
  },
  {
   "cell_type": "code",
   "execution_count": 56,
   "metadata": {
    "scrolled": true
   },
   "outputs": [
    {
     "name": "stdout",
     "output_type": "stream",
     "text": [
      "Accuracy:  0.9607843137254902\n",
      "              precision    recall  f1-score   support\n",
      "\n",
      "           0       0.98      0.93      0.95        44\n",
      "           1       0.95      0.98      0.97        58\n",
      "\n",
      "    accuracy                           0.96       102\n",
      "   macro avg       0.96      0.96      0.96       102\n",
      "weighted avg       0.96      0.96      0.96       102\n",
      "\n"
     ]
    }
   ],
   "source": [
    "svc = run_cv(svc, x_train_scaled, y_train, x_test_scaled, y_test)"
   ]
  },
  {
   "cell_type": "code",
   "execution_count": 57,
   "metadata": {},
   "outputs": [
    {
     "name": "stdout",
     "output_type": "stream",
     "text": [
      "Accuracy:  0.9509803921568627\n",
      "              precision    recall  f1-score   support\n",
      "\n",
      "           0       0.98      0.91      0.94        44\n",
      "           1       0.93      0.98      0.96        58\n",
      "\n",
      "    accuracy                           0.95       102\n",
      "   macro avg       0.96      0.95      0.95       102\n",
      "weighted avg       0.95      0.95      0.95       102\n",
      "\n"
     ]
    }
   ],
   "source": [
    "mxgb = xgb(colsample_bytree=0.4603, gamma=0.0468, \n",
    "                             learning_rate=0.01, max_depth=4, \n",
    "                             min_child_weight=1.7817, n_estimators=2200,\n",
    "                             reg_alpha=0.3, reg_lambda=0.8571,\n",
    "                             subsample=0.5213, silent=1,\n",
    "                             random_state =2, nthread = -1)\n",
    "mxg = run_cv(mxgb, x_train_scaled, y_train, x_test_scaled, y_test)"
   ]
  },
  {
   "cell_type": "code",
   "execution_count": 62,
   "metadata": {},
   "outputs": [
    {
     "data": {
      "text/html": [
       "<div>\n",
       "<style scoped>\n",
       "    .dataframe tbody tr th:only-of-type {\n",
       "        vertical-align: middle;\n",
       "    }\n",
       "\n",
       "    .dataframe tbody tr th {\n",
       "        vertical-align: top;\n",
       "    }\n",
       "\n",
       "    .dataframe thead th {\n",
       "        text-align: right;\n",
       "    }\n",
       "</style>\n",
       "<table border=\"1\" class=\"dataframe\">\n",
       "  <thead>\n",
       "    <tr style=\"text-align: right;\">\n",
       "      <th></th>\n",
       "      <th>Area</th>\n",
       "      <th>EggPart</th>\n",
       "      <th>Color</th>\n",
       "      <th>Area_1</th>\n",
       "    </tr>\n",
       "  </thead>\n",
       "  <tbody>\n",
       "    <tr>\n",
       "      <th>0</th>\n",
       "      <td>63.441723</td>\n",
       "      <td>7</td>\n",
       "      <td>1</td>\n",
       "      <td>53.306169</td>\n",
       "    </tr>\n",
       "    <tr>\n",
       "      <th>1</th>\n",
       "      <td>73.982743</td>\n",
       "      <td>4</td>\n",
       "      <td>1</td>\n",
       "      <td>59.906496</td>\n",
       "    </tr>\n",
       "    <tr>\n",
       "      <th>2</th>\n",
       "      <td>65.256158</td>\n",
       "      <td>1</td>\n",
       "      <td>1</td>\n",
       "      <td>50.073311</td>\n",
       "    </tr>\n",
       "    <tr>\n",
       "      <th>3</th>\n",
       "      <td>62.559203</td>\n",
       "      <td>7</td>\n",
       "      <td>1</td>\n",
       "      <td>47.380140</td>\n",
       "    </tr>\n",
       "    <tr>\n",
       "      <th>4</th>\n",
       "      <td>59.058978</td>\n",
       "      <td>7</td>\n",
       "      <td>1</td>\n",
       "      <td>43.761628</td>\n",
       "    </tr>\n",
       "    <tr>\n",
       "      <th>...</th>\n",
       "      <td>...</td>\n",
       "      <td>...</td>\n",
       "      <td>...</td>\n",
       "      <td>...</td>\n",
       "    </tr>\n",
       "    <tr>\n",
       "      <th>505</th>\n",
       "      <td>20.555409</td>\n",
       "      <td>1</td>\n",
       "      <td>0</td>\n",
       "      <td>3.791673</td>\n",
       "    </tr>\n",
       "    <tr>\n",
       "      <th>506</th>\n",
       "      <td>21.373207</td>\n",
       "      <td>4</td>\n",
       "      <td>0</td>\n",
       "      <td>3.636574</td>\n",
       "    </tr>\n",
       "    <tr>\n",
       "      <th>507</th>\n",
       "      <td>25.309519</td>\n",
       "      <td>2</td>\n",
       "      <td>0</td>\n",
       "      <td>4.579019</td>\n",
       "    </tr>\n",
       "    <tr>\n",
       "      <th>508</th>\n",
       "      <td>21.289893</td>\n",
       "      <td>6</td>\n",
       "      <td>0</td>\n",
       "      <td>3.912728</td>\n",
       "    </tr>\n",
       "    <tr>\n",
       "      <th>509</th>\n",
       "      <td>25.060503</td>\n",
       "      <td>3</td>\n",
       "      <td>0</td>\n",
       "      <td>5.495154</td>\n",
       "    </tr>\n",
       "  </tbody>\n",
       "</table>\n",
       "<p>510 rows × 4 columns</p>\n",
       "</div>"
      ],
      "text/plain": [
       "          Area  EggPart  Color     Area_1\n",
       "0    63.441723        7      1  53.306169\n",
       "1    73.982743        4      1  59.906496\n",
       "2    65.256158        1      1  50.073311\n",
       "3    62.559203        7      1  47.380140\n",
       "4    59.058978        7      1  43.761628\n",
       "..         ...      ...    ...        ...\n",
       "505  20.555409        1      0   3.791673\n",
       "506  21.373207        4      0   3.636574\n",
       "507  25.309519        2      0   4.579019\n",
       "508  21.289893        6      0   3.912728\n",
       "509  25.060503        3      0   5.495154\n",
       "\n",
       "[510 rows x 4 columns]"
      ]
     },
     "execution_count": 62,
     "metadata": {},
     "output_type": "execute_result"
    }
   ],
   "source": [
    "df"
   ]
  },
  {
   "cell_type": "markdown",
   "metadata": {},
   "source": [
    "## w/o outliers"
   ]
  },
  {
   "cell_type": "code",
   "execution_count": null,
   "metadata": {},
   "outputs": [],
   "source": [
    "#przed\n",
    "fig, ax = plt.subplots(figsize=(12,8))\n",
    "ax.scatter(df['Color'], df['Area_4'])\n",
    "ax.set_xlabel('Color')\n",
    "ax.set_ylabel('Area_4')\n",
    "ax.xaxis.set_ticks(np.arange(0, 1.1, 1))\n",
    "plt.show()"
   ]
  },
  {
   "cell_type": "code",
   "execution_count": 71,
   "metadata": {},
   "outputs": [
    {
     "data": {
      "image/png": "[encoded data removed]",
      "text/plain": [
       "<Figure size 864x576 with 1 Axes>"
      ]
     },
     "metadata": {
      "needs_background": "light"
     },
     "output_type": "display_data"
    }
   ],
   "source": [
    "#po\n",
    "fig, ax = plt.subplots(figsize=(12,8))\n",
    "ax.scatter(df_out['Color'], df_out['Area_1'])\n",
    "ax.set_xlabel('Color')\n",
    "ax.set_ylabel('Area_2')\n",
    "ax.xaxis.set_ticks(np.arange(0, 1.1, 1))\n",
    "fig.savefig('imgs/without-outliers.png' , dpi=700)\n",
    "plt.show()"
   ]
  },
  {
   "cell_type": "code",
   "execution_count": 59,
   "metadata": {
    "scrolled": true
   },
   "outputs": [
    {
     "data": {
      "text/html": [
       "<div>\n",
       "<style scoped>\n",
       "    .dataframe tbody tr th:only-of-type {\n",
       "        vertical-align: middle;\n",
       "    }\n",
       "\n",
       "    .dataframe tbody tr th {\n",
       "        vertical-align: top;\n",
       "    }\n",
       "\n",
       "    .dataframe thead tr th {\n",
       "        text-align: left;\n",
       "    }\n",
       "\n",
       "    .dataframe thead tr:last-of-type th {\n",
       "        text-align: right;\n",
       "    }\n",
       "</style>\n",
       "<table border=\"1\" class=\"dataframe\">\n",
       "  <thead>\n",
       "    <tr>\n",
       "      <th></th>\n",
       "      <th colspan=\"8\" halign=\"left\">Area</th>\n",
       "      <th colspan=\"5\" halign=\"left\">EggPart</th>\n",
       "      <th colspan=\"8\" halign=\"left\">Area_1</th>\n",
       "    </tr>\n",
       "    <tr>\n",
       "      <th></th>\n",
       "      <th>count</th>\n",
       "      <th>mean</th>\n",
       "      <th>std</th>\n",
       "      <th>min</th>\n",
       "      <th>25%</th>\n",
       "      <th>50%</th>\n",
       "      <th>75%</th>\n",
       "      <th>max</th>\n",
       "      <th>count</th>\n",
       "      <th>mean</th>\n",
       "      <th>...</th>\n",
       "      <th>75%</th>\n",
       "      <th>max</th>\n",
       "      <th>count</th>\n",
       "      <th>mean</th>\n",
       "      <th>std</th>\n",
       "      <th>min</th>\n",
       "      <th>25%</th>\n",
       "      <th>50%</th>\n",
       "      <th>75%</th>\n",
       "      <th>max</th>\n",
       "    </tr>\n",
       "    <tr>\n",
       "      <th>Color</th>\n",
       "      <th></th>\n",
       "      <th></th>\n",
       "      <th></th>\n",
       "      <th></th>\n",
       "      <th></th>\n",
       "      <th></th>\n",
       "      <th></th>\n",
       "      <th></th>\n",
       "      <th></th>\n",
       "      <th></th>\n",
       "      <th></th>\n",
       "      <th></th>\n",
       "      <th></th>\n",
       "      <th></th>\n",
       "      <th></th>\n",
       "      <th></th>\n",
       "      <th></th>\n",
       "      <th></th>\n",
       "      <th></th>\n",
       "      <th></th>\n",
       "      <th></th>\n",
       "    </tr>\n",
       "  </thead>\n",
       "  <tbody>\n",
       "    <tr>\n",
       "      <th>0</th>\n",
       "      <td>213.0</td>\n",
       "      <td>28.946952</td>\n",
       "      <td>10.423547</td>\n",
       "      <td>9.836433</td>\n",
       "      <td>21.373207</td>\n",
       "      <td>26.739276</td>\n",
       "      <td>35.813959</td>\n",
       "      <td>63.086545</td>\n",
       "      <td>213.0</td>\n",
       "      <td>3.502347</td>\n",
       "      <td>...</td>\n",
       "      <td>4.0</td>\n",
       "      <td>7.0</td>\n",
       "      <td>213.0</td>\n",
       "      <td>8.104326</td>\n",
       "      <td>5.848968</td>\n",
       "      <td>1.195959</td>\n",
       "      <td>3.912728</td>\n",
       "      <td>6.148381</td>\n",
       "      <td>10.487539</td>\n",
       "      <td>33.450559</td>\n",
       "    </tr>\n",
       "    <tr>\n",
       "      <th>1</th>\n",
       "      <td>297.0</td>\n",
       "      <td>57.147289</td>\n",
       "      <td>8.849013</td>\n",
       "      <td>36.189377</td>\n",
       "      <td>50.996917</td>\n",
       "      <td>56.868051</td>\n",
       "      <td>63.580707</td>\n",
       "      <td>76.569794</td>\n",
       "      <td>297.0</td>\n",
       "      <td>3.380471</td>\n",
       "      <td>...</td>\n",
       "      <td>4.0</td>\n",
       "      <td>7.0</td>\n",
       "      <td>297.0</td>\n",
       "      <td>38.993289</td>\n",
       "      <td>10.657778</td>\n",
       "      <td>13.352884</td>\n",
       "      <td>30.928805</td>\n",
       "      <td>39.505652</td>\n",
       "      <td>47.222955</td>\n",
       "      <td>65.083870</td>\n",
       "    </tr>\n",
       "  </tbody>\n",
       "</table>\n",
       "<p>2 rows × 24 columns</p>\n",
       "</div>"
      ],
      "text/plain": [
       "        Area                                                         \\\n",
       "       count       mean        std        min        25%        50%   \n",
       "Color                                                                 \n",
       "0      213.0  28.946952  10.423547   9.836433  21.373207  26.739276   \n",
       "1      297.0  57.147289   8.849013  36.189377  50.996917  56.868051   \n",
       "\n",
       "                            EggPart            ...           Area_1  \\\n",
       "             75%        max   count      mean  ...  75%  max  count   \n",
       "Color                                          ...                    \n",
       "0      35.813959  63.086545   213.0  3.502347  ...  4.0  7.0  213.0   \n",
       "1      63.580707  76.569794   297.0  3.380471  ...  4.0  7.0  297.0   \n",
       "\n",
       "                                                                         \\\n",
       "            mean        std        min        25%        50%        75%   \n",
       "Color                                                                     \n",
       "0       8.104326   5.848968   1.195959   3.912728   6.148381  10.487539   \n",
       "1      38.993289  10.657778  13.352884  30.928805  39.505652  47.222955   \n",
       "\n",
       "                  \n",
       "             max  \n",
       "Color             \n",
       "0      33.450559  \n",
       "1      65.083870  \n",
       "\n",
       "[2 rows x 24 columns]"
      ]
     },
     "execution_count": 59,
     "metadata": {},
     "output_type": "execute_result"
    }
   ],
   "source": [
    "df.groupby(\"Color\").describe()"
   ]
  },
  {
   "cell_type": "code",
   "execution_count": 70,
   "metadata": {},
   "outputs": [],
   "source": [
    "#df_outliers = df[((df[\"Color\"] == 1) & (df[\"Area\"] < 60)) | ((df[\"Color\"] == 0) & (df[\"Area\"] > 60))]\n",
    "df_outliers = df[((df[\"Color\"] == 1) & (df[\"Area_1\"] < 25)) | ((df[\"Color\"] == 0) & (df[\"Area_1\"] > 23)) | ((df[\"Color\"] == 1) & (df[\"Area_1\"] > 62))]\n",
    "df_out = df.drop(df_outliers.index, axis=0)"
   ]
  },
  {
   "cell_type": "code",
   "execution_count": 64,
   "metadata": {},
   "outputs": [],
   "source": [
    "x = df_out.drop('Color', axis=1)\n",
    "y = df_out['Color']\n",
    "x_train, x_test, y_train, y_test = train_test_split(x, y, test_size=0.2, random_state=42)\n",
    "sc = StandardScaler()\n",
    "x_train_scaled, x_test_scaled = sc.fit_transform(x_train), sc.fit_transform(x_test)\n",
    "gs_params = run_gs(x_train_scaled, y_train)\n",
    "svc = SVC(C=gs_params[\"C\"], gamma= gs_params[\"gamma\"])"
   ]
  },
  {
   "cell_type": "code",
   "execution_count": 65,
   "metadata": {},
   "outputs": [
    {
     "name": "stdout",
     "output_type": "stream",
     "text": [
      "Accuracy:  1.0\n",
      "              precision    recall  f1-score   support\n",
      "\n",
      "           0       1.00      1.00      1.00        44\n",
      "           1       1.00      1.00      1.00        51\n",
      "\n",
      "    accuracy                           1.00        95\n",
      "   macro avg       1.00      1.00      1.00        95\n",
      "weighted avg       1.00      1.00      1.00        95\n",
      "\n"
     ]
    }
   ],
   "source": [
    "#no i kozak wynik jutro opisac\n",
    "svc = run_cv(svc, x_train_scaled, y_train, x_test_scaled, y_test)"
   ]
  },
  {
   "cell_type": "markdown",
   "metadata": {},
   "source": [
    "## Split it"
   ]
  },
  {
   "cell_type": "code",
   "execution_count": 254,
   "metadata": {},
   "outputs": [],
   "source": [
    "x = df.drop('Color', axis=1)\n",
    "y = df['Color']\n",
    "x_train, x_test, y_train, y_test = train_test_split(x, y, test_size=0.2, random_state=42)\n",
    "sc = StandardScaler()\n",
    "x_train_scaled, x_test_scaled = sc.fit_transform(x_train), sc.fit_transform(x_test)"
   ]
  },
  {
   "cell_type": "code",
   "execution_count": 255,
   "metadata": {},
   "outputs": [],
   "source": [
    "gs_params = run_gs(x_train_scaled, y_train)\n",
    "svc = SVC(C=gs_params[\"C\"], gamma= gs_params[\"gamma\"])"
   ]
  },
  {
   "cell_type": "code",
   "execution_count": 256,
   "metadata": {
    "scrolled": true
   },
   "outputs": [
    {
     "name": "stdout",
     "output_type": "stream",
     "text": [
      "Accuracy:  0.8689655172413793\n",
      "Log loss:  4.52580930127803\n",
      "              precision    recall  f1-score   support\n",
      "\n",
      "           0       0.80      0.87      0.83        54\n",
      "           1       0.92      0.87      0.89        91\n",
      "\n",
      "    accuracy                           0.87       145\n",
      "   macro avg       0.86      0.87      0.86       145\n",
      "weighted avg       0.87      0.87      0.87       145\n",
      "\n"
     ]
    }
   ],
   "source": [
    "svc = run_cv(svc, x_train_scaled, y_train, x_test_scaled, y_test)"
   ]
  },
  {
   "cell_type": "code",
   "execution_count": 257,
   "metadata": {
    "scrolled": true
   },
   "outputs": [
    {
     "name": "stdout",
     "output_type": "stream",
     "text": [
      "Accuracy:  0.8689655172413793\n",
      "Log loss:  4.525803786812995\n",
      "              precision    recall  f1-score   support\n",
      "\n",
      "           0       0.79      0.89      0.83        54\n",
      "           1       0.93      0.86      0.89        91\n",
      "\n",
      "    accuracy                           0.87       145\n",
      "   macro avg       0.86      0.87      0.86       145\n",
      "weighted avg       0.88      0.87      0.87       145\n",
      "\n"
     ]
    }
   ],
   "source": [
    "rf = RandomForestClassifier(n_estimators=1000)\n",
    "rf = run_cv(rf, x_train, y_train, x_test, y_test)"
   ]
  },
  {
   "cell_type": "markdown",
   "metadata": {},
   "source": [
    "## Adding another area according to the extracted spectra graphs\n"
   ]
  },
  {
   "cell_type": "code",
   "execution_count": 199,
   "metadata": {},
   "outputs": [],
   "source": [
    "add_another_area([eggs_healthy, eggs_healthy_dark], [eggs_ill, eggs_ill_dark], df, [580, 600])"
   ]
  },
  {
   "cell_type": "code",
   "execution_count": 200,
   "metadata": {},
   "outputs": [
    {
     "data": {
      "text/html": [
       "<div>\n",
       "<style scoped>\n",
       "    .dataframe tbody tr th:only-of-type {\n",
       "        vertical-align: middle;\n",
       "    }\n",
       "\n",
       "    .dataframe tbody tr th {\n",
       "        vertical-align: top;\n",
       "    }\n",
       "\n",
       "    .dataframe thead th {\n",
       "        text-align: right;\n",
       "    }\n",
       "</style>\n",
       "<table border=\"1\" class=\"dataframe\">\n",
       "  <thead>\n",
       "    <tr style=\"text-align: right;\">\n",
       "      <th></th>\n",
       "      <th>Area</th>\n",
       "      <th>EggPart</th>\n",
       "      <th>Color</th>\n",
       "      <th>Area_2</th>\n",
       "    </tr>\n",
       "  </thead>\n",
       "  <tbody>\n",
       "    <tr>\n",
       "      <th>count</th>\n",
       "      <td>510.000000</td>\n",
       "      <td>510.000000</td>\n",
       "      <td>510.000000</td>\n",
       "      <td>510.000000</td>\n",
       "    </tr>\n",
       "    <tr>\n",
       "      <th>mean</th>\n",
       "      <td>45.369501</td>\n",
       "      <td>3.431373</td>\n",
       "      <td>0.582353</td>\n",
       "      <td>67.223546</td>\n",
       "    </tr>\n",
       "    <tr>\n",
       "      <th>std</th>\n",
       "      <td>16.869837</td>\n",
       "      <td>2.053842</td>\n",
       "      <td>0.493656</td>\n",
       "      <td>33.833172</td>\n",
       "    </tr>\n",
       "    <tr>\n",
       "      <th>min</th>\n",
       "      <td>9.836433</td>\n",
       "      <td>1.000000</td>\n",
       "      <td>0.000000</td>\n",
       "      <td>7.689159</td>\n",
       "    </tr>\n",
       "    <tr>\n",
       "      <th>25%</th>\n",
       "      <td>29.420078</td>\n",
       "      <td>2.000000</td>\n",
       "      <td>0.000000</td>\n",
       "      <td>32.673253</td>\n",
       "    </tr>\n",
       "    <tr>\n",
       "      <th>50%</th>\n",
       "      <td>47.835297</td>\n",
       "      <td>3.000000</td>\n",
       "      <td>1.000000</td>\n",
       "      <td>73.800404</td>\n",
       "    </tr>\n",
       "    <tr>\n",
       "      <th>75%</th>\n",
       "      <td>58.736923</td>\n",
       "      <td>4.000000</td>\n",
       "      <td>1.000000</td>\n",
       "      <td>95.525269</td>\n",
       "    </tr>\n",
       "    <tr>\n",
       "      <th>max</th>\n",
       "      <td>76.569794</td>\n",
       "      <td>7.000000</td>\n",
       "      <td>1.000000</td>\n",
       "      <td>129.490010</td>\n",
       "    </tr>\n",
       "  </tbody>\n",
       "</table>\n",
       "</div>"
      ],
      "text/plain": [
       "             Area     EggPart       Color      Area_2\n",
       "count  510.000000  510.000000  510.000000  510.000000\n",
       "mean    45.369501    3.431373    0.582353   67.223546\n",
       "std     16.869837    2.053842    0.493656   33.833172\n",
       "min      9.836433    1.000000    0.000000    7.689159\n",
       "25%     29.420078    2.000000    0.000000   32.673253\n",
       "50%     47.835297    3.000000    1.000000   73.800404\n",
       "75%     58.736923    4.000000    1.000000   95.525269\n",
       "max     76.569794    7.000000    1.000000  129.490010"
      ]
     },
     "execution_count": 200,
     "metadata": {},
     "output_type": "execute_result"
    }
   ],
   "source": [
    "df.describe()"
   ]
  },
  {
   "cell_type": "code",
   "execution_count": 201,
   "metadata": {},
   "outputs": [],
   "source": [
    "x = df.drop('Color', axis=1)\n",
    "y = df['Color']\n",
    "x_train, x_test, y_train, y_test = train_test_split(x, y, test_size=0.2, random_state=42)\n",
    "sc = StandardScaler()\n",
    "x_train_scaled, x_test_scaled = sc.fit_transform(x_train), sc.fit_transform(x_test)"
   ]
  },
  {
   "cell_type": "code",
   "execution_count": 202,
   "metadata": {},
   "outputs": [],
   "source": [
    "gs_params = run_gs(x_train_scaled, y_train)\n",
    "svc = SVC(C=gs_params[\"C\"], gamma= gs_params[\"gamma\"])"
   ]
  },
  {
   "cell_type": "code",
   "execution_count": 203,
   "metadata": {},
   "outputs": [
    {
     "name": "stdout",
     "output_type": "stream",
     "text": [
      "Accuracy:  0.9901960784313726\n",
      "              precision    recall  f1-score   support\n",
      "\n",
      "           0       1.00      0.98      0.99        44\n",
      "           1       0.98      1.00      0.99        58\n",
      "\n",
      "    accuracy                           0.99       102\n",
      "   macro avg       0.99      0.99      0.99       102\n",
      "weighted avg       0.99      0.99      0.99       102\n",
      "\n"
     ]
    }
   ],
   "source": [
    "svc = run_cv(svc, x_train_scaled, y_train, x_test_scaled, y_test)"
   ]
  },
  {
   "cell_type": "code",
   "execution_count": 308,
   "metadata": {},
   "outputs": [
    {
     "name": "stdout",
     "output_type": "stream",
     "text": [
      "Accuracy:  0.9803921568627451\n",
      "Log loss:  0.677238748894624\n",
      "              precision    recall  f1-score   support\n",
      "\n",
      "           0       0.98      0.98      0.98        44\n",
      "           1       0.98      0.98      0.98        58\n",
      "\n",
      "    accuracy                           0.98       102\n",
      "   macro avg       0.98      0.98      0.98       102\n",
      "weighted avg       0.98      0.98      0.98       102\n",
      "\n"
     ]
    }
   ],
   "source": [
    "rf = RandomForestClassifier(n_estimators=1000, max_depth=7)\n",
    "rf = run_cv(rf, x_train, y_train, x_test, y_test)"
   ]
  },
  {
   "cell_type": "markdown",
   "metadata": {},
   "source": [
    "## w/o outliers"
   ]
  },
  {
   "cell_type": "code",
   "execution_count": 204,
   "metadata": {},
   "outputs": [],
   "source": [
    "add_another_area([eggs_healthy, eggs_healthy_dark], [eggs_ill, eggs_ill_dark], df, [520, 540])"
   ]
  },
  {
   "cell_type": "code",
   "execution_count": 74,
   "metadata": {},
   "outputs": [],
   "source": [
    "add_another_area([eggs_healthy, eggs_healthy_dark], [eggs_ill, eggs_ill_dark], df, [580, 600])"
   ]
  },
  {
   "cell_type": "markdown",
   "metadata": {},
   "source": [
    "### IQR"
   ]
  },
  {
   "cell_type": "code",
   "execution_count": 205,
   "metadata": {},
   "outputs": [
    {
     "data": {
      "text/plain": [
       "(510, 5)"
      ]
     },
     "execution_count": 205,
     "metadata": {},
     "output_type": "execute_result"
    }
   ],
   "source": [
    "Q1 = df.quantile(0.25)\n",
    "Q3 = df.quantile(0.75)\n",
    "IQR = Q3 - Q1\n",
    "df_out = df[~(((df < (Q1 - 1.5 * IQR)) | (df > (Q3 + 1.5 * IQR)))).any(axis=1)]\n",
    "df_out.shape"
   ]
  },
  {
   "cell_type": "code",
   "execution_count": 206,
   "metadata": {},
   "outputs": [],
   "source": [
    "x = df_out.drop('Color', axis=1)\n",
    "y = df_out['Color']\n",
    "x_train, x_test, y_train, y_test = train_test_split(x, y, test_size=0.2, random_state=42)\n",
    "sc = StandardScaler()\n",
    "x_train_scaled, x_test_scaled = sc.fit_transform(x_train), sc.fit_transform(x_test)"
   ]
  },
  {
   "cell_type": "code",
   "execution_count": 207,
   "metadata": {},
   "outputs": [
    {
     "name": "stdout",
     "output_type": "stream",
     "text": [
      "Accuracy:  0.9705882352941176\n",
      "              precision    recall  f1-score   support\n",
      "\n",
      "           0       0.96      0.98      0.97        44\n",
      "           1       0.98      0.97      0.97        58\n",
      "\n",
      "    accuracy                           0.97       102\n",
      "   macro avg       0.97      0.97      0.97       102\n",
      "weighted avg       0.97      0.97      0.97       102\n",
      "\n"
     ]
    }
   ],
   "source": [
    "gs_params = run_gs(x_train_scaled, y_train)\n",
    "svc = SVC(C=gs_params[\"C\"], gamma= gs_params[\"gamma\"])\n",
    "svc = run_cv(svc, x_train_scaled, y_train, x_test_scaled, y_test)"
   ]
  },
  {
   "cell_type": "code",
   "execution_count": 78,
   "metadata": {},
   "outputs": [
    {
     "data": {
      "text/html": [
       "<div>\n",
       "<style scoped>\n",
       "    .dataframe tbody tr th:only-of-type {\n",
       "        vertical-align: middle;\n",
       "    }\n",
       "\n",
       "    .dataframe tbody tr th {\n",
       "        vertical-align: top;\n",
       "    }\n",
       "\n",
       "    .dataframe thead th {\n",
       "        text-align: right;\n",
       "    }\n",
       "</style>\n",
       "<table border=\"1\" class=\"dataframe\">\n",
       "  <thead>\n",
       "    <tr style=\"text-align: right;\">\n",
       "      <th></th>\n",
       "      <th>Area</th>\n",
       "      <th>EggPart</th>\n",
       "      <th>Color</th>\n",
       "      <th>Area_2</th>\n",
       "      <th>Area_3</th>\n",
       "      <th>Area_4</th>\n",
       "    </tr>\n",
       "  </thead>\n",
       "  <tbody>\n",
       "    <tr>\n",
       "      <th>0</th>\n",
       "      <td>44.193510</td>\n",
       "      <td>1</td>\n",
       "      <td>1</td>\n",
       "      <td>53.306169</td>\n",
       "      <td>109.062248</td>\n",
       "      <td>109.062248</td>\n",
       "    </tr>\n",
       "    <tr>\n",
       "      <th>1</th>\n",
       "      <td>55.270944</td>\n",
       "      <td>2</td>\n",
       "      <td>1</td>\n",
       "      <td>59.906496</td>\n",
       "      <td>124.930121</td>\n",
       "      <td>124.930121</td>\n",
       "    </tr>\n",
       "    <tr>\n",
       "      <th>2</th>\n",
       "      <td>46.408355</td>\n",
       "      <td>3</td>\n",
       "      <td>1</td>\n",
       "      <td>50.073311</td>\n",
       "      <td>108.998798</td>\n",
       "      <td>108.998798</td>\n",
       "    </tr>\n",
       "    <tr>\n",
       "      <th>3</th>\n",
       "      <td>38.895401</td>\n",
       "      <td>1</td>\n",
       "      <td>1</td>\n",
       "      <td>47.380140</td>\n",
       "      <td>104.159126</td>\n",
       "      <td>104.159126</td>\n",
       "    </tr>\n",
       "    <tr>\n",
       "      <th>4</th>\n",
       "      <td>45.751133</td>\n",
       "      <td>4</td>\n",
       "      <td>1</td>\n",
       "      <td>43.761628</td>\n",
       "      <td>97.037961</td>\n",
       "      <td>97.037961</td>\n",
       "    </tr>\n",
       "    <tr>\n",
       "      <th>...</th>\n",
       "      <td>...</td>\n",
       "      <td>...</td>\n",
       "      <td>...</td>\n",
       "      <td>...</td>\n",
       "      <td>...</td>\n",
       "      <td>...</td>\n",
       "    </tr>\n",
       "    <tr>\n",
       "      <th>505</th>\n",
       "      <td>20.555409</td>\n",
       "      <td>1</td>\n",
       "      <td>0</td>\n",
       "      <td>6.148381</td>\n",
       "      <td>19.800262</td>\n",
       "      <td>19.800262</td>\n",
       "    </tr>\n",
       "    <tr>\n",
       "      <th>506</th>\n",
       "      <td>21.373207</td>\n",
       "      <td>4</td>\n",
       "      <td>0</td>\n",
       "      <td>7.827639</td>\n",
       "      <td>19.664886</td>\n",
       "      <td>19.664886</td>\n",
       "    </tr>\n",
       "    <tr>\n",
       "      <th>507</th>\n",
       "      <td>25.309519</td>\n",
       "      <td>2</td>\n",
       "      <td>0</td>\n",
       "      <td>6.541322</td>\n",
       "      <td>24.065905</td>\n",
       "      <td>24.065905</td>\n",
       "    </tr>\n",
       "    <tr>\n",
       "      <th>508</th>\n",
       "      <td>21.289893</td>\n",
       "      <td>6</td>\n",
       "      <td>0</td>\n",
       "      <td>22.884198</td>\n",
       "      <td>20.290746</td>\n",
       "      <td>20.290746</td>\n",
       "    </tr>\n",
       "    <tr>\n",
       "      <th>509</th>\n",
       "      <td>25.060503</td>\n",
       "      <td>3</td>\n",
       "      <td>0</td>\n",
       "      <td>29.966065</td>\n",
       "      <td>26.054840</td>\n",
       "      <td>26.054840</td>\n",
       "    </tr>\n",
       "  </tbody>\n",
       "</table>\n",
       "<p>510 rows × 6 columns</p>\n",
       "</div>"
      ],
      "text/plain": [
       "          Area  EggPart  Color     Area_2      Area_3      Area_4\n",
       "0    44.193510        1      1  53.306169  109.062248  109.062248\n",
       "1    55.270944        2      1  59.906496  124.930121  124.930121\n",
       "2    46.408355        3      1  50.073311  108.998798  108.998798\n",
       "3    38.895401        1      1  47.380140  104.159126  104.159126\n",
       "4    45.751133        4      1  43.761628   97.037961   97.037961\n",
       "..         ...      ...    ...        ...         ...         ...\n",
       "505  20.555409        1      0   6.148381   19.800262   19.800262\n",
       "506  21.373207        4      0   7.827639   19.664886   19.664886\n",
       "507  25.309519        2      0   6.541322   24.065905   24.065905\n",
       "508  21.289893        6      0  22.884198   20.290746   20.290746\n",
       "509  25.060503        3      0  29.966065   26.054840   26.054840\n",
       "\n",
       "[510 rows x 6 columns]"
      ]
     },
     "execution_count": 78,
     "metadata": {},
     "output_type": "execute_result"
    }
   ],
   "source": [
    "df"
   ]
  },
  {
   "cell_type": "markdown",
   "metadata": {},
   "source": [
    "### z-score"
   ]
  },
  {
   "cell_type": "code",
   "execution_count": 79,
   "metadata": {},
   "outputs": [
    {
     "data": {
      "text/plain": [
       "(509, 6)"
      ]
     },
     "execution_count": 79,
     "metadata": {},
     "output_type": "execute_result"
    }
   ],
   "source": [
    "z = np.abs(stats.zscore(df))\n",
    "df_out = df[(z < 2.1).all(axis=1)]\n",
    "df_out.shape"
   ]
  },
  {
   "cell_type": "code",
   "execution_count": 80,
   "metadata": {},
   "outputs": [],
   "source": [
    "x = df_out.drop('Color', axis=1)\n",
    "y = df_out['Color']\n",
    "x_train, x_test, y_train, y_test = train_test_split(x, y, test_size=0.2, random_state=42)\n",
    "sc = StandardScaler()\n",
    "x_train_scaled, x_test_scaled = sc.fit_transform(x_train), sc.fit_transform(x_test)"
   ]
  },
  {
   "cell_type": "code",
   "execution_count": 81,
   "metadata": {},
   "outputs": [
    {
     "name": "stdout",
     "output_type": "stream",
     "text": [
      "Accuracy:  0.9901960784313726\n",
      "Log loss:  0.33861545485206646\n",
      "              precision    recall  f1-score   support\n",
      "\n",
      "           0       0.98      1.00      0.99        42\n",
      "           1       1.00      0.98      0.99        60\n",
      "\n",
      "    accuracy                           0.99       102\n",
      "   macro avg       0.99      0.99      0.99       102\n",
      "weighted avg       0.99      0.99      0.99       102\n",
      "\n"
     ]
    }
   ],
   "source": [
    "gs_params = run_gs(x_train_scaled, y_train)\n",
    "svc = SVC(C=gs_params[\"C\"], gamma= gs_params[\"gamma\"])\n",
    "svc = run_cv(svc, x_train_scaled, y_train, x_test_scaled, y_test)"
   ]
  },
  {
   "cell_type": "markdown",
   "metadata": {},
   "source": [
    "### manual"
   ]
  },
  {
   "cell_type": "code",
   "execution_count": 325,
   "metadata": {},
   "outputs": [],
   "source": [
    "df_outliers = df[((df[\"Color\"] == 1) & (df[\"Area\"] < 60)) | ((df[\"Color\"] == 0) & (df[\"Area\"] > 60))]\n",
    "df_out = df.drop(df_outliers.index, axis=0)"
   ]
  },
  {
   "cell_type": "code",
   "execution_count": 134,
   "metadata": {},
   "outputs": [
    {
     "data": {
      "text/html": [
       "<div>\n",
       "<style scoped>\n",
       "    .dataframe tbody tr th:only-of-type {\n",
       "        vertical-align: middle;\n",
       "    }\n",
       "\n",
       "    .dataframe tbody tr th {\n",
       "        vertical-align: top;\n",
       "    }\n",
       "\n",
       "    .dataframe thead th {\n",
       "        text-align: right;\n",
       "    }\n",
       "</style>\n",
       "<table border=\"1\" class=\"dataframe\">\n",
       "  <thead>\n",
       "    <tr style=\"text-align: right;\">\n",
       "      <th></th>\n",
       "      <th>Area</th>\n",
       "      <th>EggPart</th>\n",
       "      <th>Color</th>\n",
       "      <th>Area_1</th>\n",
       "      <th>Area_mean_distance</th>\n",
       "      <th>Area_mean_distance_1</th>\n",
       "    </tr>\n",
       "  </thead>\n",
       "  <tbody>\n",
       "    <tr>\n",
       "      <th>count</th>\n",
       "      <td>397.000000</td>\n",
       "      <td>397.000000</td>\n",
       "      <td>397.000000</td>\n",
       "      <td>397.000000</td>\n",
       "      <td>397.000000</td>\n",
       "      <td>397.000000</td>\n",
       "    </tr>\n",
       "    <tr>\n",
       "      <th>mean</th>\n",
       "      <td>45.707991</td>\n",
       "      <td>2.546599</td>\n",
       "      <td>0.581864</td>\n",
       "      <td>24.840773</td>\n",
       "      <td>13.238485</td>\n",
       "      <td>15.950178</td>\n",
       "    </tr>\n",
       "    <tr>\n",
       "      <th>std</th>\n",
       "      <td>16.013322</td>\n",
       "      <td>1.221015</td>\n",
       "      <td>0.493875</td>\n",
       "      <td>17.721848</td>\n",
       "      <td>8.640522</td>\n",
       "      <td>7.494389</td>\n",
       "    </tr>\n",
       "    <tr>\n",
       "      <th>min</th>\n",
       "      <td>11.822342</td>\n",
       "      <td>1.000000</td>\n",
       "      <td>0.000000</td>\n",
       "      <td>1.480404</td>\n",
       "      <td>0.070227</td>\n",
       "      <td>0.054115</td>\n",
       "    </tr>\n",
       "    <tr>\n",
       "      <th>25%</th>\n",
       "      <td>32.051361</td>\n",
       "      <td>1.000000</td>\n",
       "      <td>0.000000</td>\n",
       "      <td>6.813446</td>\n",
       "      <td>5.309169</td>\n",
       "      <td>10.274908</td>\n",
       "    </tr>\n",
       "    <tr>\n",
       "      <th>50%</th>\n",
       "      <td>47.666137</td>\n",
       "      <td>3.000000</td>\n",
       "      <td>1.000000</td>\n",
       "      <td>23.675583</td>\n",
       "      <td>12.508472</td>\n",
       "      <td>17.339273</td>\n",
       "    </tr>\n",
       "    <tr>\n",
       "      <th>75%</th>\n",
       "      <td>57.922750</td>\n",
       "      <td>4.000000</td>\n",
       "      <td>1.000000</td>\n",
       "      <td>41.223497</td>\n",
       "      <td>20.287995</td>\n",
       "      <td>21.638899</td>\n",
       "    </tr>\n",
       "    <tr>\n",
       "      <th>max</th>\n",
       "      <td>76.569794</td>\n",
       "      <td>5.000000</td>\n",
       "      <td>1.000000</td>\n",
       "      <td>58.049481</td>\n",
       "      <td>31.521312</td>\n",
       "      <td>31.216928</td>\n",
       "    </tr>\n",
       "  </tbody>\n",
       "</table>\n",
       "</div>"
      ],
      "text/plain": [
       "             Area     EggPart       Color      Area_1  Area_mean_distance  \\\n",
       "count  397.000000  397.000000  397.000000  397.000000          397.000000   \n",
       "mean    45.707991    2.546599    0.581864   24.840773           13.238485   \n",
       "std     16.013322    1.221015    0.493875   17.721848            8.640522   \n",
       "min     11.822342    1.000000    0.000000    1.480404            0.070227   \n",
       "25%     32.051361    1.000000    0.000000    6.813446            5.309169   \n",
       "50%     47.666137    3.000000    1.000000   23.675583           12.508472   \n",
       "75%     57.922750    4.000000    1.000000   41.223497           20.287995   \n",
       "max     76.569794    5.000000    1.000000   58.049481           31.521312   \n",
       "\n",
       "       Area_mean_distance_1  \n",
       "count            397.000000  \n",
       "mean              15.950178  \n",
       "std                7.494389  \n",
       "min                0.054115  \n",
       "25%               10.274908  \n",
       "50%               17.339273  \n",
       "75%               21.638899  \n",
       "max               31.216928  "
      ]
     },
     "execution_count": 134,
     "metadata": {},
     "output_type": "execute_result"
    }
   ],
   "source": [
    "df_out.describe()"
   ]
  },
  {
   "cell_type": "code",
   "execution_count": 133,
   "metadata": {},
   "outputs": [
    {
     "data": {
      "image/png": "[encoded data removed]",
      "text/plain": [
       "<Figure size 864x576 with 1 Axes>"
      ]
     },
     "metadata": {
      "needs_background": "light"
     },
     "output_type": "display_data"
    }
   ],
   "source": [
    "fig, ax = plt.subplots(figsize=(12,8))\n",
    "ax.scatter(df_out['Color'], df_out['Area'])\n",
    "ax.set_xlabel('Color')\n",
    "ax.set_ylabel('Area')\n",
    "ax.xaxis.set_ticks(np.arange(0, 1.1, 1))\n",
    "plt.show()"
   ]
  },
  {
   "cell_type": "code",
   "execution_count": 328,
   "metadata": {},
   "outputs": [],
   "source": [
    "x = df_out.drop('Color', axis=1)\n",
    "y = df_out['Color']\n",
    "x_train, x_test, y_train, y_test = train_test_split(x, y, test_size=0.2, random_state=44)\n",
    "sc = StandardScaler()\n",
    "x_train_scaled, x_test_scaled = sc.fit_transform(x_train), sc.fit_transform(x_test)"
   ]
  },
  {
   "cell_type": "code",
   "execution_count": 329,
   "metadata": {},
   "outputs": [],
   "source": [
    "gs_params = run_gs(x_train_scaled, y_train)\n",
    "svc = SVC(C=gs_params[\"C\"], gamma= gs_params[\"gamma\"])"
   ]
  },
  {
   "cell_type": "code",
   "execution_count": 330,
   "metadata": {},
   "outputs": [
    {
     "name": "stdout",
     "output_type": "stream",
     "text": [
      "Accuracy:  1.0\n",
      "Log loss:  9.992007221626413e-16\n",
      "              precision    recall  f1-score   support\n",
      "\n",
      "           0       1.00      1.00      1.00        37\n",
      "           1       1.00      1.00      1.00        57\n",
      "\n",
      "    accuracy                           1.00        94\n",
      "   macro avg       1.00      1.00      1.00        94\n",
      "weighted avg       1.00      1.00      1.00        94\n",
      "\n"
     ]
    }
   ],
   "source": [
    "svc = run_cv(svc, x_train_scaled, y_train, x_test_scaled, y_test)"
   ]
  },
  {
   "cell_type": "markdown",
   "metadata": {},
   "source": [
    "### adding distance from the mean for each parameter\n"
   ]
  },
  {
   "cell_type": "code",
   "execution_count": 116,
   "metadata": {},
   "outputs": [],
   "source": [
    "#add_another_area([eggs_healthy, eggs_healthy_dark], [eggs_ill, eggs_ill_dark], df, [580, 600])\n",
    "add_another_area([eggs_healthy, eggs_healthy_dark], [eggs_ill, eggs_ill_dark], df, [520, 540])"
   ]
  },
  {
   "cell_type": "code",
   "execution_count": 117,
   "metadata": {},
   "outputs": [],
   "source": [
    "df = df.join(df.groupby(\"EggPart\").agg(np.mean), on='EggPart', rsuffix='_mean')\n",
    "df[\"Area_mean_distance\"] = abs(df[\"Area\"] - df[\"Area_mean\"])\n",
    "df[\"Area_mean_distance_1\"] = abs(df[\"Area_1\"] - df[\"Area_1_mean\"])\n",
    "df[\"Area_mean_distance_2\"] = abs(df[\"Area_2\"] - df[\"Area_2_mean\"])\n",
    "\n",
    "col_to_drop = [\"Area_mean\", \"Area_1_mean\", \"Area_2_mean\" , \"Color_mean\"]\n",
    "df.drop(col_to_drop, axis = 1, inplace = True)"
   ]
  },
  {
   "cell_type": "code",
   "execution_count": 123,
   "metadata": {},
   "outputs": [],
   "source": [
    "x = df.drop('Color', axis=1)\n",
    "y = df['Color']\n",
    "x_train, x_test, y_train, y_test = train_test_split(x, y, test_size=0.3, random_state=42)\n",
    "sc = StandardScaler()\n",
    "x_train_scaled, x_test_scaled = sc.fit_transform(x_train), sc.fit_transform(x_test)"
   ]
  },
  {
   "cell_type": "code",
   "execution_count": 124,
   "metadata": {},
   "outputs": [
    {
     "name": "stdout",
     "output_type": "stream",
     "text": [
      "Accuracy:  0.9607843137254902\n",
      "Log loss:  1.3544931761702315\n",
      "              precision    recall  f1-score   support\n",
      "\n",
      "           0       1.00      0.91      0.96        70\n",
      "           1       0.93      1.00      0.97        83\n",
      "\n",
      "    accuracy                           0.96       153\n",
      "   macro avg       0.97      0.96      0.96       153\n",
      "weighted avg       0.96      0.96      0.96       153\n",
      "\n"
     ]
    }
   ],
   "source": [
    "gs_params = run_gs(x_train_scaled, y_train)\n",
    "svc = SVC(C=gs_params[\"C\"], gamma= gs_params[\"gamma\"])\n",
    "svc = run_cv(svc, x_train_scaled, y_train, x_test_scaled, y_test)"
   ]
  },
  {
   "cell_type": "code",
   "execution_count": 120,
   "metadata": {},
   "outputs": [
    {
     "data": {
      "text/html": [
       "<div>\n",
       "<style scoped>\n",
       "    .dataframe tbody tr th:only-of-type {\n",
       "        vertical-align: middle;\n",
       "    }\n",
       "\n",
       "    .dataframe tbody tr th {\n",
       "        vertical-align: top;\n",
       "    }\n",
       "\n",
       "    .dataframe thead th {\n",
       "        text-align: right;\n",
       "    }\n",
       "</style>\n",
       "<table border=\"1\" class=\"dataframe\">\n",
       "  <thead>\n",
       "    <tr style=\"text-align: right;\">\n",
       "      <th></th>\n",
       "      <th>Area</th>\n",
       "      <th>EggPart</th>\n",
       "      <th>Color</th>\n",
       "      <th>Area_1</th>\n",
       "      <th>Area_mean_distance</th>\n",
       "      <th>Area_mean_distance_1</th>\n",
       "    </tr>\n",
       "  </thead>\n",
       "  <tbody>\n",
       "    <tr>\n",
       "      <th>0</th>\n",
       "      <td>44.193510</td>\n",
       "      <td>1</td>\n",
       "      <td>1</td>\n",
       "      <td>53.306169</td>\n",
       "      <td>1.410269</td>\n",
       "      <td>26.081918</td>\n",
       "    </tr>\n",
       "    <tr>\n",
       "      <th>1</th>\n",
       "      <td>55.270944</td>\n",
       "      <td>2</td>\n",
       "      <td>1</td>\n",
       "      <td>59.906496</td>\n",
       "      <td>6.169148</td>\n",
       "      <td>34.932618</td>\n",
       "    </tr>\n",
       "    <tr>\n",
       "      <th>2</th>\n",
       "      <td>46.408355</td>\n",
       "      <td>3</td>\n",
       "      <td>1</td>\n",
       "      <td>50.073311</td>\n",
       "      <td>0.751502</td>\n",
       "      <td>26.061441</td>\n",
       "    </tr>\n",
       "    <tr>\n",
       "      <th>3</th>\n",
       "      <td>38.895401</td>\n",
       "      <td>1</td>\n",
       "      <td>1</td>\n",
       "      <td>47.380140</td>\n",
       "      <td>3.887840</td>\n",
       "      <td>20.155889</td>\n",
       "    </tr>\n",
       "    <tr>\n",
       "      <th>4</th>\n",
       "      <td>45.751133</td>\n",
       "      <td>4</td>\n",
       "      <td>1</td>\n",
       "      <td>43.761628</td>\n",
       "      <td>0.233167</td>\n",
       "      <td>17.921498</td>\n",
       "    </tr>\n",
       "    <tr>\n",
       "      <th>...</th>\n",
       "      <td>...</td>\n",
       "      <td>...</td>\n",
       "      <td>...</td>\n",
       "      <td>...</td>\n",
       "      <td>...</td>\n",
       "      <td>...</td>\n",
       "    </tr>\n",
       "    <tr>\n",
       "      <th>505</th>\n",
       "      <td>20.555409</td>\n",
       "      <td>1</td>\n",
       "      <td>0</td>\n",
       "      <td>3.791673</td>\n",
       "      <td>22.227832</td>\n",
       "      <td>23.432578</td>\n",
       "    </tr>\n",
       "    <tr>\n",
       "      <th>506</th>\n",
       "      <td>21.373207</td>\n",
       "      <td>4</td>\n",
       "      <td>0</td>\n",
       "      <td>3.636574</td>\n",
       "      <td>24.144759</td>\n",
       "      <td>22.203556</td>\n",
       "    </tr>\n",
       "    <tr>\n",
       "      <th>507</th>\n",
       "      <td>25.309519</td>\n",
       "      <td>2</td>\n",
       "      <td>0</td>\n",
       "      <td>4.579019</td>\n",
       "      <td>23.792277</td>\n",
       "      <td>20.394858</td>\n",
       "    </tr>\n",
       "    <tr>\n",
       "      <th>508</th>\n",
       "      <td>21.289893</td>\n",
       "      <td>6</td>\n",
       "      <td>0</td>\n",
       "      <td>3.912728</td>\n",
       "      <td>13.638886</td>\n",
       "      <td>8.666951</td>\n",
       "    </tr>\n",
       "    <tr>\n",
       "      <th>509</th>\n",
       "      <td>25.060503</td>\n",
       "      <td>3</td>\n",
       "      <td>0</td>\n",
       "      <td>5.495154</td>\n",
       "      <td>22.099354</td>\n",
       "      <td>18.516716</td>\n",
       "    </tr>\n",
       "  </tbody>\n",
       "</table>\n",
       "<p>510 rows × 6 columns</p>\n",
       "</div>"
      ],
      "text/plain": [
       "          Area  EggPart  Color     Area_1  Area_mean_distance  \\\n",
       "0    44.193510        1      1  53.306169            1.410269   \n",
       "1    55.270944        2      1  59.906496            6.169148   \n",
       "2    46.408355        3      1  50.073311            0.751502   \n",
       "3    38.895401        1      1  47.380140            3.887840   \n",
       "4    45.751133        4      1  43.761628            0.233167   \n",
       "..         ...      ...    ...        ...                 ...   \n",
       "505  20.555409        1      0   3.791673           22.227832   \n",
       "506  21.373207        4      0   3.636574           24.144759   \n",
       "507  25.309519        2      0   4.579019           23.792277   \n",
       "508  21.289893        6      0   3.912728           13.638886   \n",
       "509  25.060503        3      0   5.495154           22.099354   \n",
       "\n",
       "     Area_mean_distance_1  \n",
       "0               26.081918  \n",
       "1               34.932618  \n",
       "2               26.061441  \n",
       "3               20.155889  \n",
       "4               17.921498  \n",
       "..                    ...  \n",
       "505             23.432578  \n",
       "506             22.203556  \n",
       "507             20.394858  \n",
       "508              8.666951  \n",
       "509             18.516716  \n",
       "\n",
       "[510 rows x 6 columns]"
      ]
     },
     "execution_count": 120,
     "metadata": {},
     "output_type": "execute_result"
    }
   ],
   "source": [
    "df"
   ]
  },
  {
   "cell_type": "code",
   "execution_count": 128,
   "metadata": {},
   "outputs": [
    {
     "data": {
      "text/plain": [
       "(510, 6)"
      ]
     },
     "execution_count": 128,
     "metadata": {},
     "output_type": "execute_result"
    }
   ],
   "source": [
    "df_out.shape"
   ]
  },
  {
   "cell_type": "code",
   "execution_count": 131,
   "metadata": {},
   "outputs": [],
   "source": [
    "Q1 = df.quantile(0.25)\n",
    "Q3 = df.quantile(0.75)\n",
    "IQR = Q3 - Q1\n",
    "df_out = df[~(((df < (Q1 - 0.75 * IQR)) | (df > (Q3 + 0.75 * IQR)))).any(axis=1)]\n",
    "x = df_out.drop('Color', axis=1)\n",
    "y = df_out['Color']\n",
    "x_train, x_test, y_train, y_test = train_test_split(x, y, test_size=0.2, random_state=42)\n",
    "sc = StandardScaler()\n",
    "x_train_scaled, x_test_scaled = sc.fit_transform(x_train), sc.fit_transform(x_test)"
   ]
  },
  {
   "cell_type": "code",
   "execution_count": 132,
   "metadata": {},
   "outputs": [
    {
     "name": "stdout",
     "output_type": "stream",
     "text": [
      "Accuracy:  0.9875\n",
      "Log loss:  0.43173470493638455\n",
      "              precision    recall  f1-score   support\n",
      "\n",
      "           0       0.97      1.00      0.98        32\n",
      "           1       1.00      0.98      0.99        48\n",
      "\n",
      "    accuracy                           0.99        80\n",
      "   macro avg       0.98      0.99      0.99        80\n",
      "weighted avg       0.99      0.99      0.99        80\n",
      "\n"
     ]
    }
   ],
   "source": [
    "gs_params = run_gs(x_train_scaled, y_train)\n",
    "svc = SVC(C=gs_params[\"C\"], gamma= gs_params[\"gamma\"])\n",
    "svc = run_cv(svc, x_train_scaled, y_train, x_test_scaled, y_test)"
   ]
  },
  {
   "cell_type": "code",
   "execution_count": null,
   "metadata": {},
   "outputs": [],
   "source": []
  }
 ],
 "metadata": {
  "kernelspec": {
   "display_name": "Python 3",
   "language": "python",
   "name": "python3"
  },
  "language_info": {
   "codemirror_mode": {
    "name": "ipython",
    "version": 3
   },
   "file_extension": ".py",
   "mimetype": "text/x-python",
   "name": "python",
   "nbconvert_exporter": "python",
   "pygments_lexer": "ipython3",
   "version": "3.7.2"
  }
 },
 "nbformat": 4,
 "nbformat_minor": 2
}

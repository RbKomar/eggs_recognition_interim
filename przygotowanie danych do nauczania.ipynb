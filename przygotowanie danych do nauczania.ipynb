{
 "cells": [
  {
   "cell_type": "code",
   "execution_count": 1,
   "metadata": {},
   "outputs": [],
   "source": [
    "from SCreator import FileReader\n",
    "import pandas as pd\n",
    "import numpy as np\n",
    "import matplotlib.pyplot as plt\n",
    "\n",
    "from sklearn.model_selection import train_test_split\n",
    "from sklearn.preprocessing import StandardScaler\n",
    "from sklearn.model_selection import GridSearchCV\n",
    "\n",
    "from sklearn.metrics import classification_report\n",
    "from sklearn.metrics import accuracy_score\n",
    "\n",
    "from sklearn.svm import SVC\n",
    "from xgboost.sklearn import XGBClassifier as xgb\n",
    "\n"
   ]
  },
  {
   "cell_type": "code",
   "execution_count": 2,
   "metadata": {},
   "outputs": [],
   "source": [
    "def make_graph(data):\n",
    "    fig = plt.gcf()\n",
    "    fig.set_size_inches(18.5, 10.5)\n",
    "    plt.xlabel('Wavelength')\n",
    "    plt.ylabel('Reflectance')\n",
    "    for i in range(5):\n",
    "        plt.scatter(data[\"wavelength\"],data[\"reflectance\"], s=1)\n",
    "    plt.show()"
   ]
  },
  {
   "cell_type": "code",
   "execution_count": 3,
   "metadata": {},
   "outputs": [],
   "source": [
    "def static_vars(**kwargs):\n",
    "    def decorate(func):\n",
    "        for k in kwargs:\n",
    "            setattr(func, k, kwargs[k])\n",
    "        return func\n",
    "    return decorate\n"
   ]
  },
  {
   "cell_type": "code",
   "execution_count": 4,
   "metadata": {},
   "outputs": [],
   "source": [
    "def create_base_data(data, dest_data, x_range, s_range):\n",
    "    for i in range(len(data)):\n",
    "        mini_frame = []\n",
    "        mini_frame.append(data[i].average_for_samples(x_range[0],x_range[1]))\n",
    "        part_of_egg = ''.join(filter(lambda x: not x.isdigit(), data[i].samples[0].part_class))\n",
    "        mini_frame.append(''.join(filter(lambda x: not x.isdigit(), part_of_egg)))\n",
    "        mini_frame.append(not data[i].samples[0].ill)\n",
    "        mini_frame.append(data[i].samples[0].calculate_slope(s_range[0], s_range[1]))\n",
    "        dest_data.append(mini_frame)\n",
    "\n",
    "@static_vars(area_counter=1)      \n",
    "def add_another_area(data_healthy, data_ill, dest_df, x_range):\n",
    "    area_to_append = []\n",
    "    for i in range(len(data_healthy)):\n",
    "        area_to_append.append(data_healthy[i].average_for_samples(x_range[0],x_range[1]))\n",
    "    for i in range(len(data_ill)):\n",
    "        area_to_append.append(data_ill[i].average_for_samples(x_range[0],x_range[1])) \n",
    "    dest_df[\"Area_\" + str(add_another_area.area_counter)] = pd.DataFrame(area_to_append)\n",
    "    add_another_area.area_counter +=1"
   ]
  },
  {
   "cell_type": "code",
   "execution_count": 5,
   "metadata": {},
   "outputs": [],
   "source": [
    "def run_cv(model, x_train, y_train, x_test, y_test):\n",
    "    model.fit(x_train, y_train)\n",
    "    model_pred = model.predict(x_test)\n",
    "    \n",
    "    print(\"Accuracy: \", accuracy_score(y_test, model_pred))\n",
    "    print(classification_report(y_test, model_pred))\n",
    "    return model\n",
    "\n",
    "def run_gs_fine(c_pow, gamma_pow,x_train_scaled,y_train ):\n",
    "    c_powers = [pow(2, i) for i in np.arange(c_pow-2, c_pow+2, 0.25)]\n",
    "    gamma_powers = [pow(2, i) for i in np.arange(gamma_pow-2, gamma_pow+2, 0.25)]\n",
    "    parameters = {'C': c_powers, \n",
    "              'gamma': gamma_powers,\n",
    "              'kernel': ['rbf']}\n",
    "    \n",
    "    grid_svc = GridSearchCV(SVC(), param_grid=parameters, scoring='accuracy')\n",
    "    grid_svc.fit(x_train_scaled, y_train)\n",
    "    return grid_svc.best_params_\n",
    "    \n",
    "def run_gs(x_train_scaled,y_train):\n",
    "    c_powers = [pow(2, i) for i in range(-5, 16,2)]\n",
    "    gamma_powers = [pow(2, i) for i in range(-15, 4,2)]\n",
    "    parameters = {'C': c_powers, \n",
    "              'gamma': gamma_powers,\n",
    "              'kernel': ['rbf']}\n",
    "    grid_svc = GridSearchCV(SVC(), param_grid=parameters, scoring='accuracy')\n",
    "    grid_svc.fit(x_train_scaled, y_train)\n",
    "    return run_gs_fine(np.log2(grid_svc.best_params_ ['C']), np.log2(grid_svc.best_params_ ['gamma']),x_train_scaled,y_train)"
   ]
  },
  {
   "cell_type": "code",
   "execution_count": 6,
   "metadata": {},
   "outputs": [],
   "source": [
    "eggs_healthy = []\n",
    "eggs_ill = []\n",
    "dir_path_healthy = 'data2k17/Healthy_white/'\n",
    "dir_path_ill = 'data2k17/ill_white/'\n",
    "dir_path_healthy_dark = 'data2k17/Healthy_dark/'\n",
    "dir_path_ill_dark = 'data2k17/ill_dark/'"
   ]
  },
  {
   "cell_type": "code",
   "execution_count": 7,
   "metadata": {},
   "outputs": [],
   "source": [
    "eggs_healthy = FileReader.FileReader(dir_path_healthy).read_files()\n",
    "eggs_healthy_dark = FileReader.FileReader(dir_path_healthy_dark).read_files()\n",
    "eggs_ill = FileReader.FileReader(dir_path_ill).read_files()\n",
    "eggs_ill_dark = FileReader.FileReader(dir_path_ill_dark).read_files()"
   ]
  },
  {
   "cell_type": "code",
   "execution_count": 8,
   "metadata": {},
   "outputs": [
    {
     "name": "stdout",
     "output_type": "stream",
     "text": [
      "113 98 184 115\n"
     ]
    }
   ],
   "source": [
    "print(len(eggs_healthy), len(eggs_healthy_dark), len(eggs_ill), len(eggs_ill_dark))"
   ]
  },
  {
   "cell_type": "code",
   "execution_count": 9,
   "metadata": {},
   "outputs": [],
   "source": [
    "data = []\n",
    "x_range = [630, 650]\n",
    "slope_range = [622,645]"
   ]
  },
  {
   "cell_type": "code",
   "execution_count": 10,
   "metadata": {},
   "outputs": [],
   "source": [
    "create_base_data(eggs_healthy_dark, data, x_range, slope_range)\n",
    "create_base_data(eggs_ill_dark, data, x_range, slope_range)"
   ]
  },
  {
   "cell_type": "code",
   "execution_count": 11,
   "metadata": {},
   "outputs": [],
   "source": [
    "df = pd.DataFrame(data, columns = [\"Area\", \"EggPart\", \"Healthy\",\"Slope\"])"
   ]
  },
  {
   "cell_type": "code",
   "execution_count": 12,
   "metadata": {},
   "outputs": [
    {
     "data": {
      "text/html": [
       "<div>\n",
       "<style scoped>\n",
       "    .dataframe tbody tr th:only-of-type {\n",
       "        vertical-align: middle;\n",
       "    }\n",
       "\n",
       "    .dataframe tbody tr th {\n",
       "        vertical-align: top;\n",
       "    }\n",
       "\n",
       "    .dataframe thead tr th {\n",
       "        text-align: left;\n",
       "    }\n",
       "\n",
       "    .dataframe thead tr:last-of-type th {\n",
       "        text-align: right;\n",
       "    }\n",
       "</style>\n",
       "<table border=\"1\" class=\"dataframe\">\n",
       "  <thead>\n",
       "    <tr>\n",
       "      <th></th>\n",
       "      <th colspan=\"8\" halign=\"left\">Area</th>\n",
       "      <th colspan=\"8\" halign=\"left\">Slope</th>\n",
       "    </tr>\n",
       "    <tr>\n",
       "      <th></th>\n",
       "      <th>count</th>\n",
       "      <th>mean</th>\n",
       "      <th>std</th>\n",
       "      <th>min</th>\n",
       "      <th>25%</th>\n",
       "      <th>50%</th>\n",
       "      <th>75%</th>\n",
       "      <th>max</th>\n",
       "      <th>count</th>\n",
       "      <th>mean</th>\n",
       "      <th>std</th>\n",
       "      <th>min</th>\n",
       "      <th>25%</th>\n",
       "      <th>50%</th>\n",
       "      <th>75%</th>\n",
       "      <th>max</th>\n",
       "    </tr>\n",
       "    <tr>\n",
       "      <th>Healthy</th>\n",
       "      <th></th>\n",
       "      <th></th>\n",
       "      <th></th>\n",
       "      <th></th>\n",
       "      <th></th>\n",
       "      <th></th>\n",
       "      <th></th>\n",
       "      <th></th>\n",
       "      <th></th>\n",
       "      <th></th>\n",
       "      <th></th>\n",
       "      <th></th>\n",
       "      <th></th>\n",
       "      <th></th>\n",
       "      <th></th>\n",
       "      <th></th>\n",
       "    </tr>\n",
       "  </thead>\n",
       "  <tbody>\n",
       "    <tr>\n",
       "      <th>False</th>\n",
       "      <td>115.0</td>\n",
       "      <td>74.460977</td>\n",
       "      <td>20.377634</td>\n",
       "      <td>24.228405</td>\n",
       "      <td>57.413979</td>\n",
       "      <td>73.534847</td>\n",
       "      <td>92.015621</td>\n",
       "      <td>130.476797</td>\n",
       "      <td>115.0</td>\n",
       "      <td>-0.007312</td>\n",
       "      <td>0.001833</td>\n",
       "      <td>-0.011611</td>\n",
       "      <td>-0.008542</td>\n",
       "      <td>-0.007322</td>\n",
       "      <td>-0.005946</td>\n",
       "      <td>-0.003641</td>\n",
       "    </tr>\n",
       "    <tr>\n",
       "      <th>True</th>\n",
       "      <td>98.0</td>\n",
       "      <td>50.265053</td>\n",
       "      <td>13.066979</td>\n",
       "      <td>25.532637</td>\n",
       "      <td>39.359734</td>\n",
       "      <td>52.153555</td>\n",
       "      <td>59.443164</td>\n",
       "      <td>82.785315</td>\n",
       "      <td>98.0</td>\n",
       "      <td>-0.008737</td>\n",
       "      <td>0.001496</td>\n",
       "      <td>-0.011830</td>\n",
       "      <td>-0.009801</td>\n",
       "      <td>-0.008743</td>\n",
       "      <td>-0.007627</td>\n",
       "      <td>-0.005825</td>\n",
       "    </tr>\n",
       "  </tbody>\n",
       "</table>\n",
       "</div>"
      ],
      "text/plain": [
       "          Area                                                         \\\n",
       "         count       mean        std        min        25%        50%   \n",
       "Healthy                                                                 \n",
       "False    115.0  74.460977  20.377634  24.228405  57.413979  73.534847   \n",
       "True      98.0  50.265053  13.066979  25.532637  39.359734  52.153555   \n",
       "\n",
       "                                Slope                                          \\\n",
       "               75%         max  count      mean       std       min       25%   \n",
       "Healthy                                                                         \n",
       "False    92.015621  130.476797  115.0 -0.007312  0.001833 -0.011611 -0.008542   \n",
       "True     59.443164   82.785315   98.0 -0.008737  0.001496 -0.011830 -0.009801   \n",
       "\n",
       "                                       \n",
       "              50%       75%       max  \n",
       "Healthy                                \n",
       "False   -0.007322 -0.005946 -0.003641  \n",
       "True    -0.008743 -0.007627 -0.005825  "
      ]
     },
     "execution_count": 12,
     "metadata": {},
     "output_type": "execute_result"
    }
   ],
   "source": [
    "df.groupby(\"Healthy\").describe()"
   ]
  },
  {
   "cell_type": "code",
   "execution_count": 13,
   "metadata": {},
   "outputs": [
    {
     "data": {
      "text/html": [
       "<div>\n",
       "<style scoped>\n",
       "    .dataframe tbody tr th:only-of-type {\n",
       "        vertical-align: middle;\n",
       "    }\n",
       "\n",
       "    .dataframe tbody tr th {\n",
       "        vertical-align: top;\n",
       "    }\n",
       "\n",
       "    .dataframe thead th {\n",
       "        text-align: right;\n",
       "    }\n",
       "</style>\n",
       "<table border=\"1\" class=\"dataframe\">\n",
       "  <thead>\n",
       "    <tr style=\"text-align: right;\">\n",
       "      <th></th>\n",
       "      <th>Area</th>\n",
       "      <th>EggPart</th>\n",
       "      <th>Healthy</th>\n",
       "      <th>Slope</th>\n",
       "    </tr>\n",
       "  </thead>\n",
       "  <tbody>\n",
       "    <tr>\n",
       "      <th>0</th>\n",
       "      <td>62.781153</td>\n",
       "      <td>b</td>\n",
       "      <td>True</td>\n",
       "      <td>-0.006387</td>\n",
       "    </tr>\n",
       "    <tr>\n",
       "      <th>1</th>\n",
       "      <td>76.007158</td>\n",
       "      <td>c</td>\n",
       "      <td>True</td>\n",
       "      <td>-0.008719</td>\n",
       "    </tr>\n",
       "    <tr>\n",
       "      <th>2</th>\n",
       "      <td>56.728077</td>\n",
       "      <td>a</td>\n",
       "      <td>True</td>\n",
       "      <td>-0.006987</td>\n",
       "    </tr>\n",
       "    <tr>\n",
       "      <th>3</th>\n",
       "      <td>57.179068</td>\n",
       "      <td>b</td>\n",
       "      <td>True</td>\n",
       "      <td>-0.006792</td>\n",
       "    </tr>\n",
       "    <tr>\n",
       "      <th>4</th>\n",
       "      <td>56.707525</td>\n",
       "      <td>b</td>\n",
       "      <td>True</td>\n",
       "      <td>-0.006863</td>\n",
       "    </tr>\n",
       "    <tr>\n",
       "      <th>...</th>\n",
       "      <td>...</td>\n",
       "      <td>...</td>\n",
       "      <td>...</td>\n",
       "      <td>...</td>\n",
       "    </tr>\n",
       "    <tr>\n",
       "      <th>208</th>\n",
       "      <td>46.182127</td>\n",
       "      <td>a</td>\n",
       "      <td>False</td>\n",
       "      <td>-0.006212</td>\n",
       "    </tr>\n",
       "    <tr>\n",
       "      <th>209</th>\n",
       "      <td>48.974754</td>\n",
       "      <td>c</td>\n",
       "      <td>False</td>\n",
       "      <td>-0.008912</td>\n",
       "    </tr>\n",
       "    <tr>\n",
       "      <th>210</th>\n",
       "      <td>57.505396</td>\n",
       "      <td>h</td>\n",
       "      <td>False</td>\n",
       "      <td>-0.009215</td>\n",
       "    </tr>\n",
       "    <tr>\n",
       "      <th>211</th>\n",
       "      <td>48.150500</td>\n",
       "      <td>zz</td>\n",
       "      <td>False</td>\n",
       "      <td>-0.007194</td>\n",
       "    </tr>\n",
       "    <tr>\n",
       "      <th>212</th>\n",
       "      <td>54.819491</td>\n",
       "      <td>z</td>\n",
       "      <td>False</td>\n",
       "      <td>-0.006198</td>\n",
       "    </tr>\n",
       "  </tbody>\n",
       "</table>\n",
       "<p>213 rows × 4 columns</p>\n",
       "</div>"
      ],
      "text/plain": [
       "          Area EggPart  Healthy     Slope\n",
       "0    62.781153       b     True -0.006387\n",
       "1    76.007158       c     True -0.008719\n",
       "2    56.728077       a     True -0.006987\n",
       "3    57.179068       b     True -0.006792\n",
       "4    56.707525       b     True -0.006863\n",
       "..         ...     ...      ...       ...\n",
       "208  46.182127       a    False -0.006212\n",
       "209  48.974754       c    False -0.008912\n",
       "210  57.505396       h    False -0.009215\n",
       "211  48.150500      zz    False -0.007194\n",
       "212  54.819491       z    False -0.006198\n",
       "\n",
       "[213 rows x 4 columns]"
      ]
     },
     "execution_count": 13,
     "metadata": {},
     "output_type": "execute_result"
    }
   ],
   "source": [
    "df"
   ]
  },
  {
   "cell_type": "markdown",
   "metadata": {},
   "source": [
    "## Step 1 with the cat division and integral under one area"
   ]
  },
  {
   "cell_type": "code",
   "execution_count": 14,
   "metadata": {},
   "outputs": [],
   "source": [
    "part_mapping = {'a' : 1, 'h' : 2, 'z' : 3, 'c' : 4, 'hh' : 5, 'zz' : 6, 'b' : 7}\n",
    "df[\"EggPart\"] = df[\"EggPart\"].map(part_mapping)"
   ]
  },
  {
   "cell_type": "code",
   "execution_count": 15,
   "metadata": {},
   "outputs": [],
   "source": [
    "x = df.drop('Healthy', axis=1)\n",
    "y = df['Healthy']\n",
    "x_train, x_test, y_train, y_test = train_test_split(x, y, test_size=0.2, random_state=42)\n",
    "sc = StandardScaler()\n",
    "x_train_scaled, x_test_scaled = sc.fit_transform(x_train), sc.fit_transform(x_test)"
   ]
  },
  {
   "cell_type": "code",
   "execution_count": 16,
   "metadata": {},
   "outputs": [],
   "source": [
    "gs_params = run_gs(x_train_scaled, y_train)\n",
    "svc = SVC(C=gs_params[\"C\"], gamma= gs_params[\"gamma\"])"
   ]
  },
  {
   "cell_type": "code",
   "execution_count": 17,
   "metadata": {},
   "outputs": [
    {
     "name": "stdout",
     "output_type": "stream",
     "text": [
      "Accuracy:  0.9069767441860465\n",
      "              precision    recall  f1-score   support\n",
      "\n",
      "       False       0.96      0.88      0.92        26\n",
      "        True       0.84      0.94      0.89        17\n",
      "\n",
      "    accuracy                           0.91        43\n",
      "   macro avg       0.90      0.91      0.90        43\n",
      "weighted avg       0.91      0.91      0.91        43\n",
      "\n"
     ]
    }
   ],
   "source": [
    "svc = run_cv(svc, x_train_scaled, y_train, x_test_scaled, y_test)"
   ]
  },
  {
   "cell_type": "code",
   "execution_count": 18,
   "metadata": {
    "scrolled": true
   },
   "outputs": [
    {
     "name": "stdout",
     "output_type": "stream",
     "text": [
      "Accuracy:  0.8837209302325582\n",
      "              precision    recall  f1-score   support\n",
      "\n",
      "       False       0.89      0.92      0.91        26\n",
      "        True       0.88      0.82      0.85        17\n",
      "\n",
      "    accuracy                           0.88        43\n",
      "   macro avg       0.88      0.87      0.88        43\n",
      "weighted avg       0.88      0.88      0.88        43\n",
      "\n"
     ]
    }
   ],
   "source": [
    "mxgb = xgb(colsample_bytree=0.4603, gamma=0.0468, \n",
    "                             learning_rate=0.01, max_depth=4, \n",
    "                             min_child_weight=1.7817, n_estimators=2200,\n",
    "                             reg_alpha=0.3, reg_lambda=0.8571,\n",
    "                             subsample=0.5213, silent=1,\n",
    "                             random_state =2, nthread = -1)\n",
    "mxg = run_cv(mxgb, x_train, y_train, x_test, y_test)"
   ]
  },
  {
   "cell_type": "markdown",
   "metadata": {},
   "source": [
    "### w/o outliers\n"
   ]
  },
  {
   "cell_type": "code",
   "execution_count": 19,
   "metadata": {},
   "outputs": [
    {
     "data": {
      "text/plain": [
       "(211, 4)"
      ]
     },
     "execution_count": 19,
     "metadata": {},
     "output_type": "execute_result"
    }
   ],
   "source": [
    "Q1 = df.quantile(0.25)\n",
    "Q3 = df.quantile(0.75)\n",
    "IQR = Q3 - Q1\n",
    "df_out = df[~(((df < (Q1 - 1.5 * IQR)) | (df > (Q3 + 1.5 * IQR)))).any(axis=1)]\n",
    "df_out.shape"
   ]
  },
  {
   "cell_type": "code",
   "execution_count": 20,
   "metadata": {},
   "outputs": [],
   "source": [
    "x = df_out.drop('Healthy', axis=1)\n",
    "y = df_out['Healthy']\n",
    "x_train, x_test, y_train, y_test = train_test_split(x, y, test_size=0.2, random_state=42)\n",
    "sc = StandardScaler()\n",
    "x_train_scaled, x_test_scaled = sc.fit_transform(x_train), sc.fit_transform(x_test)"
   ]
  },
  {
   "cell_type": "code",
   "execution_count": 21,
   "metadata": {},
   "outputs": [],
   "source": [
    "gs_params = run_gs(x_train_scaled, y_train)\n",
    "svc = SVC(C=gs_params[\"C\"], gamma= gs_params[\"gamma\"])"
   ]
  },
  {
   "cell_type": "code",
   "execution_count": 22,
   "metadata": {},
   "outputs": [
    {
     "name": "stdout",
     "output_type": "stream",
     "text": [
      "Accuracy:  0.813953488372093\n",
      "              precision    recall  f1-score   support\n",
      "\n",
      "       False       0.91      0.77      0.83        26\n",
      "        True       0.71      0.88      0.79        17\n",
      "\n",
      "    accuracy                           0.81        43\n",
      "   macro avg       0.81      0.83      0.81        43\n",
      "weighted avg       0.83      0.81      0.82        43\n",
      "\n"
     ]
    }
   ],
   "source": [
    "svc = run_cv(svc, x_train_scaled, y_train, x_test_scaled, y_test)"
   ]
  },
  {
   "cell_type": "code",
   "execution_count": 23,
   "metadata": {},
   "outputs": [
    {
     "name": "stdout",
     "output_type": "stream",
     "text": [
      "Accuracy:  0.7674418604651163\n",
      "              precision    recall  f1-score   support\n",
      "\n",
      "       False       0.86      0.73      0.79        26\n",
      "        True       0.67      0.82      0.74        17\n",
      "\n",
      "    accuracy                           0.77        43\n",
      "   macro avg       0.77      0.78      0.76        43\n",
      "weighted avg       0.79      0.77      0.77        43\n",
      "\n"
     ]
    }
   ],
   "source": [
    "mxgb = xgb(colsample_bytree=0.4603, gamma=0.0468, \n",
    "                             learning_rate=0.01, max_depth=4, \n",
    "                             min_child_weight=1.7817, n_estimators=2200,\n",
    "                             reg_alpha=0.3, reg_lambda=0.8571,\n",
    "                             subsample=0.5213, silent=1,\n",
    "                             random_state =2, nthread = -1)\n",
    "mxg = run_cv(mxgb, x_train, y_train, x_test, y_test)"
   ]
  },
  {
   "cell_type": "markdown",
   "metadata": {},
   "source": [
    "# Step 2 adding more areas"
   ]
  },
  {
   "cell_type": "code",
   "execution_count": 24,
   "metadata": {},
   "outputs": [],
   "source": [
    "add_another_area(eggs_ill_dark, eggs_healthy_dark, df, [570, 590])"
   ]
  },
  {
   "cell_type": "code",
   "execution_count": 25,
   "metadata": {},
   "outputs": [],
   "source": [
    "x = df.drop('Healthy', axis=1)\n",
    "y = df['Healthy']\n",
    "x_train, x_test, y_train, y_test = train_test_split(x, y, test_size=0.2, random_state=42)\n",
    "sc = StandardScaler()\n",
    "x_train_scaled, x_test_scaled = sc.fit_transform(x_train), sc.fit_transform(x_test)\n",
    "gs_params = run_gs(x_train_scaled, y_train)\n",
    "svc = SVC(C=gs_params[\"C\"], gamma= gs_params[\"gamma\"])"
   ]
  },
  {
   "cell_type": "code",
   "execution_count": 26,
   "metadata": {},
   "outputs": [
    {
     "name": "stdout",
     "output_type": "stream",
     "text": [
      "Accuracy:  0.8837209302325582\n",
      "              precision    recall  f1-score   support\n",
      "\n",
      "       False       1.00      0.81      0.89        26\n",
      "        True       0.77      1.00      0.87        17\n",
      "\n",
      "    accuracy                           0.88        43\n",
      "   macro avg       0.89      0.90      0.88        43\n",
      "weighted avg       0.91      0.88      0.88        43\n",
      "\n"
     ]
    }
   ],
   "source": [
    "svc = run_cv(svc, x_train_scaled, y_train, x_test_scaled, y_test)"
   ]
  },
  {
   "cell_type": "code",
   "execution_count": 27,
   "metadata": {},
   "outputs": [
    {
     "name": "stdout",
     "output_type": "stream",
     "text": [
      "Accuracy:  0.9069767441860465\n",
      "              precision    recall  f1-score   support\n",
      "\n",
      "       False       0.92      0.92      0.92        26\n",
      "        True       0.88      0.88      0.88        17\n",
      "\n",
      "    accuracy                           0.91        43\n",
      "   macro avg       0.90      0.90      0.90        43\n",
      "weighted avg       0.91      0.91      0.91        43\n",
      "\n"
     ]
    }
   ],
   "source": [
    "mxgb = xgb(colsample_bytree=0.4603, gamma=0.0468, \n",
    "                             learning_rate=0.01, max_depth=4, \n",
    "                             min_child_weight=1.7817, n_estimators=2200,\n",
    "                             reg_alpha=0.3, reg_lambda=0.8571,\n",
    "                             subsample=0.5213, silent=1,\n",
    "                             random_state =2, nthread = -1)\n",
    "mxg = run_cv(mxgb, x_train, y_train, x_test, y_test)"
   ]
  },
  {
   "cell_type": "markdown",
   "metadata": {},
   "source": [
    "## Another area"
   ]
  },
  {
   "cell_type": "code",
   "execution_count": 28,
   "metadata": {},
   "outputs": [],
   "source": [
    "add_another_area(eggs_ill, eggs_healthy, df, [480, 500])"
   ]
  },
  {
   "cell_type": "code",
   "execution_count": 29,
   "metadata": {},
   "outputs": [],
   "source": [
    "x = df.drop('Healthy', axis=1)\n",
    "y = df['Healthy']\n",
    "x_train, x_test, y_train, y_test = train_test_split(x, y, test_size=0.2, random_state=42)\n",
    "sc = StandardScaler()\n",
    "x_train_scaled, x_test_scaled = sc.fit_transform(x_train), sc.fit_transform(x_test)\n",
    "gs_params = run_gs(x_train_scaled, y_train)\n",
    "svc = SVC(C=gs_params[\"C\"], gamma= gs_params[\"gamma\"])"
   ]
  },
  {
   "cell_type": "code",
   "execution_count": 30,
   "metadata": {},
   "outputs": [
    {
     "name": "stdout",
     "output_type": "stream",
     "text": [
      "Accuracy:  0.8837209302325582\n",
      "              precision    recall  f1-score   support\n",
      "\n",
      "       False       1.00      0.81      0.89        26\n",
      "        True       0.77      1.00      0.87        17\n",
      "\n",
      "    accuracy                           0.88        43\n",
      "   macro avg       0.89      0.90      0.88        43\n",
      "weighted avg       0.91      0.88      0.88        43\n",
      "\n"
     ]
    }
   ],
   "source": [
    "svc = run_cv(svc, x_train_scaled, y_train, x_test_scaled, y_test)"
   ]
  },
  {
   "cell_type": "code",
   "execution_count": 31,
   "metadata": {},
   "outputs": [
    {
     "data": {
      "text/html": [
       "<div>\n",
       "<style scoped>\n",
       "    .dataframe tbody tr th:only-of-type {\n",
       "        vertical-align: middle;\n",
       "    }\n",
       "\n",
       "    .dataframe tbody tr th {\n",
       "        vertical-align: top;\n",
       "    }\n",
       "\n",
       "    .dataframe thead tr th {\n",
       "        text-align: left;\n",
       "    }\n",
       "\n",
       "    .dataframe thead tr:last-of-type th {\n",
       "        text-align: right;\n",
       "    }\n",
       "</style>\n",
       "<table border=\"1\" class=\"dataframe\">\n",
       "  <thead>\n",
       "    <tr>\n",
       "      <th></th>\n",
       "      <th colspan=\"8\" halign=\"left\">Area</th>\n",
       "      <th colspan=\"2\" halign=\"left\">EggPart</th>\n",
       "      <th>...</th>\n",
       "      <th colspan=\"2\" halign=\"left\">Area_1</th>\n",
       "      <th colspan=\"8\" halign=\"left\">Area_2</th>\n",
       "    </tr>\n",
       "    <tr>\n",
       "      <th></th>\n",
       "      <th>count</th>\n",
       "      <th>mean</th>\n",
       "      <th>std</th>\n",
       "      <th>min</th>\n",
       "      <th>25%</th>\n",
       "      <th>50%</th>\n",
       "      <th>75%</th>\n",
       "      <th>max</th>\n",
       "      <th>count</th>\n",
       "      <th>mean</th>\n",
       "      <th>...</th>\n",
       "      <th>75%</th>\n",
       "      <th>max</th>\n",
       "      <th>count</th>\n",
       "      <th>mean</th>\n",
       "      <th>std</th>\n",
       "      <th>min</th>\n",
       "      <th>25%</th>\n",
       "      <th>50%</th>\n",
       "      <th>75%</th>\n",
       "      <th>max</th>\n",
       "    </tr>\n",
       "    <tr>\n",
       "      <th>Healthy</th>\n",
       "      <th></th>\n",
       "      <th></th>\n",
       "      <th></th>\n",
       "      <th></th>\n",
       "      <th></th>\n",
       "      <th></th>\n",
       "      <th></th>\n",
       "      <th></th>\n",
       "      <th></th>\n",
       "      <th></th>\n",
       "      <th></th>\n",
       "      <th></th>\n",
       "      <th></th>\n",
       "      <th></th>\n",
       "      <th></th>\n",
       "      <th></th>\n",
       "      <th></th>\n",
       "      <th></th>\n",
       "      <th></th>\n",
       "      <th></th>\n",
       "      <th></th>\n",
       "    </tr>\n",
       "  </thead>\n",
       "  <tbody>\n",
       "    <tr>\n",
       "      <th>False</th>\n",
       "      <td>115.0</td>\n",
       "      <td>74.460977</td>\n",
       "      <td>20.377634</td>\n",
       "      <td>24.228405</td>\n",
       "      <td>57.413979</td>\n",
       "      <td>73.534847</td>\n",
       "      <td>92.015621</td>\n",
       "      <td>130.476797</td>\n",
       "      <td>115.0</td>\n",
       "      <td>2.869565</td>\n",
       "      <td>...</td>\n",
       "      <td>29.446231</td>\n",
       "      <td>61.605607</td>\n",
       "      <td>115.0</td>\n",
       "      <td>15.593323</td>\n",
       "      <td>5.249928</td>\n",
       "      <td>4.415203</td>\n",
       "      <td>11.819941</td>\n",
       "      <td>15.507462</td>\n",
       "      <td>19.327402</td>\n",
       "      <td>27.174533</td>\n",
       "    </tr>\n",
       "    <tr>\n",
       "      <th>True</th>\n",
       "      <td>98.0</td>\n",
       "      <td>50.265053</td>\n",
       "      <td>13.066979</td>\n",
       "      <td>25.532637</td>\n",
       "      <td>39.359734</td>\n",
       "      <td>52.153555</td>\n",
       "      <td>59.443164</td>\n",
       "      <td>82.785315</td>\n",
       "      <td>98.0</td>\n",
       "      <td>4.244898</td>\n",
       "      <td>...</td>\n",
       "      <td>49.837029</td>\n",
       "      <td>86.697100</td>\n",
       "      <td>98.0</td>\n",
       "      <td>12.782423</td>\n",
       "      <td>4.366475</td>\n",
       "      <td>5.260209</td>\n",
       "      <td>9.928306</td>\n",
       "      <td>12.148043</td>\n",
       "      <td>15.456085</td>\n",
       "      <td>23.855281</td>\n",
       "    </tr>\n",
       "  </tbody>\n",
       "</table>\n",
       "<p>2 rows × 40 columns</p>\n",
       "</div>"
      ],
      "text/plain": [
       "          Area                                                         \\\n",
       "         count       mean        std        min        25%        50%   \n",
       "Healthy                                                                 \n",
       "False    115.0  74.460977  20.377634  24.228405  57.413979  73.534847   \n",
       "True      98.0  50.265053  13.066979  25.532637  39.359734  52.153555   \n",
       "\n",
       "                               EggPart            ...     Area_1             \\\n",
       "               75%         max   count      mean  ...        75%        max   \n",
       "Healthy                                           ...                         \n",
       "False    92.015621  130.476797   115.0  2.869565  ...  29.446231  61.605607   \n",
       "True     59.443164   82.785315    98.0  4.244898  ...  49.837029  86.697100   \n",
       "\n",
       "        Area_2                                                       \\\n",
       "         count       mean       std       min        25%        50%   \n",
       "Healthy                                                               \n",
       "False    115.0  15.593323  5.249928  4.415203  11.819941  15.507462   \n",
       "True      98.0  12.782423  4.366475  5.260209   9.928306  12.148043   \n",
       "\n",
       "                               \n",
       "               75%        max  \n",
       "Healthy                        \n",
       "False    19.327402  27.174533  \n",
       "True     15.456085  23.855281  \n",
       "\n",
       "[2 rows x 40 columns]"
      ]
     },
     "execution_count": 31,
     "metadata": {},
     "output_type": "execute_result"
    }
   ],
   "source": [
    "df.groupby(\"Healthy\").describe()"
   ]
  },
  {
   "cell_type": "markdown",
   "metadata": {},
   "source": [
    "## Next approach with adding the distance to the mean"
   ]
  },
  {
   "cell_type": "code",
   "execution_count": 449,
   "metadata": {},
   "outputs": [],
   "source": [
    "df = pd.DataFrame(data, columns = [\"Area\", \"EggPart\", \"Healthy\",])"
   ]
  },
  {
   "cell_type": "code",
   "execution_count": 452,
   "metadata": {},
   "outputs": [],
   "source": [
    "add_another_area(eggs_healthy, eggs_ill, df, [550, 580])\n",
    "add_another_area(eggs_healthy, eggs_ill, df, [640, 660])"
   ]
  },
  {
   "cell_type": "code",
   "execution_count": 33,
   "metadata": {},
   "outputs": [
    {
     "data": {
      "text/html": [
       "<div>\n",
       "<style scoped>\n",
       "    .dataframe tbody tr th:only-of-type {\n",
       "        vertical-align: middle;\n",
       "    }\n",
       "\n",
       "    .dataframe tbody tr th {\n",
       "        vertical-align: top;\n",
       "    }\n",
       "\n",
       "    .dataframe thead th {\n",
       "        text-align: right;\n",
       "    }\n",
       "</style>\n",
       "<table border=\"1\" class=\"dataframe\">\n",
       "  <thead>\n",
       "    <tr style=\"text-align: right;\">\n",
       "      <th></th>\n",
       "      <th>Area</th>\n",
       "      <th>EggPart</th>\n",
       "      <th>Healthy</th>\n",
       "      <th>Slope</th>\n",
       "      <th>Area_1</th>\n",
       "      <th>Area_2</th>\n",
       "    </tr>\n",
       "  </thead>\n",
       "  <tbody>\n",
       "    <tr>\n",
       "      <th>0</th>\n",
       "      <td>62.781153</td>\n",
       "      <td>7</td>\n",
       "      <td>True</td>\n",
       "      <td>-0.006387</td>\n",
       "      <td>23.825913</td>\n",
       "      <td>8.126561</td>\n",
       "    </tr>\n",
       "    <tr>\n",
       "      <th>1</th>\n",
       "      <td>76.007158</td>\n",
       "      <td>4</td>\n",
       "      <td>True</td>\n",
       "      <td>-0.008719</td>\n",
       "      <td>17.737960</td>\n",
       "      <td>10.794771</td>\n",
       "    </tr>\n",
       "    <tr>\n",
       "      <th>2</th>\n",
       "      <td>56.728077</td>\n",
       "      <td>1</td>\n",
       "      <td>True</td>\n",
       "      <td>-0.006987</td>\n",
       "      <td>27.515401</td>\n",
       "      <td>8.406852</td>\n",
       "    </tr>\n",
       "    <tr>\n",
       "      <th>3</th>\n",
       "      <td>57.179068</td>\n",
       "      <td>7</td>\n",
       "      <td>True</td>\n",
       "      <td>-0.006792</td>\n",
       "      <td>31.887476</td>\n",
       "      <td>5.996202</td>\n",
       "    </tr>\n",
       "    <tr>\n",
       "      <th>4</th>\n",
       "      <td>56.707525</td>\n",
       "      <td>7</td>\n",
       "      <td>True</td>\n",
       "      <td>-0.006863</td>\n",
       "      <td>26.115710</td>\n",
       "      <td>7.214106</td>\n",
       "    </tr>\n",
       "  </tbody>\n",
       "</table>\n",
       "</div>"
      ],
      "text/plain": [
       "        Area  EggPart  Healthy     Slope     Area_1     Area_2\n",
       "0  62.781153        7     True -0.006387  23.825913   8.126561\n",
       "1  76.007158        4     True -0.008719  17.737960  10.794771\n",
       "2  56.728077        1     True -0.006987  27.515401   8.406852\n",
       "3  57.179068        7     True -0.006792  31.887476   5.996202\n",
       "4  56.707525        7     True -0.006863  26.115710   7.214106"
      ]
     },
     "execution_count": 33,
     "metadata": {},
     "output_type": "execute_result"
    }
   ],
   "source": [
    "df.head()"
   ]
  },
  {
   "cell_type": "code",
   "execution_count": 34,
   "metadata": {},
   "outputs": [],
   "source": [
    "df = df.join(df.groupby(\"EggPart\").agg(np.mean), on='EggPart', rsuffix='_mean')\n",
    "df[\"Area_mean_distance\"] = abs(df[\"Area\"] - df[\"Area_mean\"])\n",
    "df[\"Area_mean_distance_1\"] = abs(df[\"Area_1\"] - df[\"Area_1_mean\"])\n",
    "df[\"Area_mean_distance_2\"] = abs(df[\"Area_2\"] - df[\"Area_2_mean\"])\n",
    "df[\"Slope_mean_distance\"] = abs(df[\"Slope\"] - df[\"Slope_mean\"])\n",
    "\n",
    "\n",
    "col_to_drop = [\"Area_mean\", \"Healthy_mean\", \"Area_1_mean\", \"Area_2_mean\", \"Slope_mean\"]\n",
    "df.drop(col_to_drop, axis = 1, inplace = True)"
   ]
  },
  {
   "cell_type": "code",
   "execution_count": 472,
   "metadata": {},
   "outputs": [],
   "source": [
    "part_mapping = {'a' : 1, 'h' : 2, 'z' : 3, 'c' : 4, 'hh' : 5, 'zz' : 6, 'b' : 7}\n",
    "#part_mapping = {'a' : 1, 'h' : 2, 'z' : 3, 'c' : 4, 'hh' : 2, 'zz' : 3, 'b' : 7 , 'bb' : 7}\n",
    "df[\"EggPart\"] = df[\"EggPart\"].map(part_mapping)"
   ]
  },
  {
   "cell_type": "code",
   "execution_count": 35,
   "metadata": {},
   "outputs": [],
   "source": [
    "x = df.drop('Healthy', axis=1)\n",
    "y = df['Healthy']\n",
    "x_train, x_test, y_train, y_test = train_test_split(x, y, test_size=0.2, random_state=42)\n",
    "sc = StandardScaler()\n",
    "x_train_scaled, x_test_scaled = sc.fit_transform(x_train), sc.fit_transform(x_test)"
   ]
  },
  {
   "cell_type": "code",
   "execution_count": 36,
   "metadata": {},
   "outputs": [],
   "source": [
    "gs_params = run_gs(x_train_scaled, y_train)\n",
    "svc = SVC(C=gs_params[\"C\"], gamma= gs_params[\"gamma\"])"
   ]
  },
  {
   "cell_type": "code",
   "execution_count": 37,
   "metadata": {},
   "outputs": [
    {
     "name": "stdout",
     "output_type": "stream",
     "text": [
      "Accuracy:  0.9069767441860465\n",
      "              precision    recall  f1-score   support\n",
      "\n",
      "       False       0.96      0.88      0.92        26\n",
      "        True       0.84      0.94      0.89        17\n",
      "\n",
      "    accuracy                           0.91        43\n",
      "   macro avg       0.90      0.91      0.90        43\n",
      "weighted avg       0.91      0.91      0.91        43\n",
      "\n"
     ]
    }
   ],
   "source": [
    "svc = run_cv(svc, x_train_scaled, y_train, x_test_scaled, y_test)"
   ]
  },
  {
   "cell_type": "code",
   "execution_count": 39,
   "metadata": {},
   "outputs": [
    {
     "name": "stdout",
     "output_type": "stream",
     "text": [
      "Accuracy:  0.9302325581395349\n",
      "              precision    recall  f1-score   support\n",
      "\n",
      "       False       0.96      0.92      0.94        26\n",
      "        True       0.89      0.94      0.91        17\n",
      "\n",
      "    accuracy                           0.93        43\n",
      "   macro avg       0.92      0.93      0.93        43\n",
      "weighted avg       0.93      0.93      0.93        43\n",
      "\n"
     ]
    }
   ],
   "source": [
    "mxgb = xgb(colsample_bytree=0.4603, gamma=0.0468, \n",
    "                             learning_rate=0.01, max_depth=4, \n",
    "                             min_child_weight=1.7817, n_estimators=2200,\n",
    "                             reg_alpha=0.3, reg_lambda=0.8571,\n",
    "                             subsample=0.5213, silent=1,\n",
    "                             random_state =2, nthread = -1)\n",
    "mxg = run_cv(mxgb, x_train, y_train, x_test, y_test)"
   ]
  },
  {
   "cell_type": "markdown",
   "metadata": {},
   "source": [
    "## Treating double letters as one"
   ]
  },
  {
   "cell_type": "code",
   "execution_count": 272,
   "metadata": {},
   "outputs": [],
   "source": [
    "df = pd.DataFrame(data, columns = [\"Area\", \"EggPart\", \"Healthy\"])\n",
    "part_mapping = {'a' : 1, 'h' : 2, 'z' : 3, 'c' : 4, 'hh' : 2, 'zz' : 3, 'b' : 7 , 'bb' : 7}\n",
    "df[\"EggPart\"] = df[\"EggPart\"].map(part_mapping)"
   ]
  },
  {
   "cell_type": "code",
   "execution_count": 273,
   "metadata": {},
   "outputs": [
    {
     "data": {
      "text/html": [
       "<div>\n",
       "<style scoped>\n",
       "    .dataframe tbody tr th:only-of-type {\n",
       "        vertical-align: middle;\n",
       "    }\n",
       "\n",
       "    .dataframe tbody tr th {\n",
       "        vertical-align: top;\n",
       "    }\n",
       "\n",
       "    .dataframe thead th {\n",
       "        text-align: right;\n",
       "    }\n",
       "</style>\n",
       "<table border=\"1\" class=\"dataframe\">\n",
       "  <thead>\n",
       "    <tr style=\"text-align: right;\">\n",
       "      <th></th>\n",
       "      <th>Area</th>\n",
       "      <th>EggPart</th>\n",
       "      <th>Healthy</th>\n",
       "      <th>Area_mean_distance</th>\n",
       "    </tr>\n",
       "  </thead>\n",
       "  <tbody>\n",
       "    <tr>\n",
       "      <th>0</th>\n",
       "      <td>90.364106</td>\n",
       "      <td>1</td>\n",
       "      <td>False</td>\n",
       "      <td>23.564389</td>\n",
       "    </tr>\n",
       "    <tr>\n",
       "      <th>1</th>\n",
       "      <td>112.639061</td>\n",
       "      <td>2</td>\n",
       "      <td>False</td>\n",
       "      <td>0.773452</td>\n",
       "    </tr>\n",
       "    <tr>\n",
       "      <th>2</th>\n",
       "      <td>94.844660</td>\n",
       "      <td>3</td>\n",
       "      <td>False</td>\n",
       "      <td>13.592073</td>\n",
       "    </tr>\n",
       "    <tr>\n",
       "      <th>3</th>\n",
       "      <td>80.115887</td>\n",
       "      <td>1</td>\n",
       "      <td>False</td>\n",
       "      <td>33.812609</td>\n",
       "    </tr>\n",
       "    <tr>\n",
       "      <th>4</th>\n",
       "      <td>94.525620</td>\n",
       "      <td>4</td>\n",
       "      <td>False</td>\n",
       "      <td>27.200040</td>\n",
       "    </tr>\n",
       "    <tr>\n",
       "      <th>...</th>\n",
       "      <td>...</td>\n",
       "      <td>...</td>\n",
       "      <td>...</td>\n",
       "      <td>...</td>\n",
       "    </tr>\n",
       "    <tr>\n",
       "      <th>292</th>\n",
       "      <td>117.739953</td>\n",
       "      <td>7</td>\n",
       "      <td>True</td>\n",
       "      <td>3.532563</td>\n",
       "    </tr>\n",
       "    <tr>\n",
       "      <th>293</th>\n",
       "      <td>115.915473</td>\n",
       "      <td>7</td>\n",
       "      <td>True</td>\n",
       "      <td>5.357044</td>\n",
       "    </tr>\n",
       "    <tr>\n",
       "      <th>294</th>\n",
       "      <td>134.999146</td>\n",
       "      <td>4</td>\n",
       "      <td>True</td>\n",
       "      <td>13.273486</td>\n",
       "    </tr>\n",
       "    <tr>\n",
       "      <th>295</th>\n",
       "      <td>114.142792</td>\n",
       "      <td>1</td>\n",
       "      <td>True</td>\n",
       "      <td>0.214297</td>\n",
       "    </tr>\n",
       "    <tr>\n",
       "      <th>296</th>\n",
       "      <td>94.004063</td>\n",
       "      <td>7</td>\n",
       "      <td>True</td>\n",
       "      <td>27.268454</td>\n",
       "    </tr>\n",
       "  </tbody>\n",
       "</table>\n",
       "<p>297 rows × 4 columns</p>\n",
       "</div>"
      ],
      "text/plain": [
       "           Area  EggPart  Healthy  Area_mean_distance\n",
       "0     90.364106        1    False           23.564389\n",
       "1    112.639061        2    False            0.773452\n",
       "2     94.844660        3    False           13.592073\n",
       "3     80.115887        1    False           33.812609\n",
       "4     94.525620        4    False           27.200040\n",
       "..          ...      ...      ...                 ...\n",
       "292  117.739953        7     True            3.532563\n",
       "293  115.915473        7     True            5.357044\n",
       "294  134.999146        4     True           13.273486\n",
       "295  114.142792        1     True            0.214297\n",
       "296   94.004063        7     True           27.268454\n",
       "\n",
       "[297 rows x 4 columns]"
      ]
     },
     "execution_count": 273,
     "metadata": {},
     "output_type": "execute_result"
    }
   ],
   "source": [
    "df = df.join(df.groupby(\"EggPart\").agg(np.mean), on='EggPart', rsuffix='_mean')\n",
    "df[\"Area_mean_distance\"] = abs(df[\"Area\"] - df[\"Area_mean\"])\n",
    "col_to_drop = [\"Area_mean\", \"Healthy_mean\"]\n",
    "df.drop(col_to_drop, axis = 1, inplace = True)\n",
    "df"
   ]
  },
  {
   "cell_type": "code",
   "execution_count": 277,
   "metadata": {},
   "outputs": [],
   "source": [
    "x = df.drop('Healthy', axis=1)\n",
    "y = df['Healthy']\n",
    "x_train, x_test, y_train, y_test = train_test_split(x, y, test_size=0.2, random_state=42)\n",
    "sc = StandardScaler()\n",
    "x_train_scaled, x_test_scaled = sc.fit_transform(x_train), sc.fit_transform(x_test)"
   ]
  },
  {
   "cell_type": "code",
   "execution_count": 278,
   "metadata": {},
   "outputs": [],
   "source": [
    "gs_params = run_gs(x_train_scaled, y_train)\n",
    "svc = SVC(C=gs_params[\"C\"], gamma= gs_params[\"gamma\"])"
   ]
  },
  {
   "cell_type": "code",
   "execution_count": 279,
   "metadata": {},
   "outputs": [
    {
     "name": "stdout",
     "output_type": "stream",
     "text": [
      "Accuracy:  0.8333333333333334\n",
      "Log loss:  5.756489385732787\n",
      "              precision    recall  f1-score   support\n",
      "\n",
      "       False       0.83      0.95      0.88        40\n",
      "        True       0.86      0.60      0.71        20\n",
      "\n",
      "    accuracy                           0.83        60\n",
      "   macro avg       0.84      0.77      0.79        60\n",
      "weighted avg       0.84      0.83      0.82        60\n",
      "\n"
     ]
    }
   ],
   "source": [
    "svc = run_cv(svc, x_train_scaled, y_train, x_test_scaled, y_test)"
   ]
  },
  {
   "cell_type": "code",
   "execution_count": 232,
   "metadata": {},
   "outputs": [
    {
     "name": "stdout",
     "output_type": "stream",
     "text": [
      "Accuracy:  0.8\n",
      "Log loss:  6.907808585477483\n",
      "              precision    recall  f1-score   support\n",
      "\n",
      "       False       0.82      0.90      0.86        20\n",
      "        True       0.75      0.60      0.67        10\n",
      "\n",
      "    accuracy                           0.80        30\n",
      "   macro avg       0.78      0.75      0.76        30\n",
      "weighted avg       0.80      0.80      0.79        30\n",
      "\n"
     ]
    }
   ],
   "source": [
    "rf = RandomForestClassifier(n_estimators=100)\n",
    "rf =  run_cv(rf, X_train, Y_train, X_test, Y_test)"
   ]
  },
  {
   "cell_type": "code",
   "execution_count": 243,
   "metadata": {},
   "outputs": [
    {
     "data": {
      "text/html": [
       "<div>\n",
       "<style scoped>\n",
       "    .dataframe tbody tr th:only-of-type {\n",
       "        vertical-align: middle;\n",
       "    }\n",
       "\n",
       "    .dataframe tbody tr th {\n",
       "        vertical-align: top;\n",
       "    }\n",
       "\n",
       "    .dataframe thead th {\n",
       "        text-align: right;\n",
       "    }\n",
       "</style>\n",
       "<table border=\"1\" class=\"dataframe\">\n",
       "  <thead>\n",
       "    <tr style=\"text-align: right;\">\n",
       "      <th></th>\n",
       "      <th>Model</th>\n",
       "      <th>Score</th>\n",
       "    </tr>\n",
       "  </thead>\n",
       "  <tbody>\n",
       "    <tr>\n",
       "      <th>3</th>\n",
       "      <td>Random Forest</td>\n",
       "      <td>100.00</td>\n",
       "    </tr>\n",
       "    <tr>\n",
       "      <th>8</th>\n",
       "      <td>Decision Tree</td>\n",
       "      <td>100.00</td>\n",
       "    </tr>\n",
       "    <tr>\n",
       "      <th>1</th>\n",
       "      <td>KNN</td>\n",
       "      <td>87.27</td>\n",
       "    </tr>\n",
       "    <tr>\n",
       "      <th>4</th>\n",
       "      <td>Naive Bayes</td>\n",
       "      <td>83.52</td>\n",
       "    </tr>\n",
       "    <tr>\n",
       "      <th>2</th>\n",
       "      <td>Logistic Regression</td>\n",
       "      <td>81.65</td>\n",
       "    </tr>\n",
       "    <tr>\n",
       "      <th>5</th>\n",
       "      <td>Perceptron</td>\n",
       "      <td>61.42</td>\n",
       "    </tr>\n",
       "    <tr>\n",
       "      <th>6</th>\n",
       "      <td>Stochastic Gradient Decent</td>\n",
       "      <td>61.42</td>\n",
       "    </tr>\n",
       "    <tr>\n",
       "      <th>7</th>\n",
       "      <td>Linear SVC</td>\n",
       "      <td>41.95</td>\n",
       "    </tr>\n",
       "    <tr>\n",
       "      <th>0</th>\n",
       "      <td>Support Vector Machines</td>\n",
       "      <td>0.90</td>\n",
       "    </tr>\n",
       "  </tbody>\n",
       "</table>\n",
       "</div>"
      ],
      "text/plain": [
       "                        Model   Score\n",
       "3               Random Forest  100.00\n",
       "8               Decision Tree  100.00\n",
       "1                         KNN   87.27\n",
       "4                 Naive Bayes   83.52\n",
       "2         Logistic Regression   81.65\n",
       "5                  Perceptron   61.42\n",
       "6  Stochastic Gradient Decent   61.42\n",
       "7                  Linear SVC   41.95\n",
       "0     Support Vector Machines    0.90"
      ]
     },
     "execution_count": 243,
     "metadata": {},
     "output_type": "execute_result"
    }
   ],
   "source": [
    "models = pd.DataFrame({\n",
    "    'Model': ['Support Vector Machines', 'KNN', 'Logistic Regression', \n",
    "              'Random Forest', 'Naive Bayes', 'Perceptron', \n",
    "              'Stochastic Gradient Decent', 'Linear SVC', \n",
    "              'Decision Tree'],\n",
    "    'Score': [0.9, acc_knn, acc_log, \n",
    "              acc_random_forest, acc_gaussian, acc_perceptron, \n",
    "              acc_sgd, acc_linear_svc, acc_decision_tree]})\n",
    "models.sort_values(by='Score', ascending=False)\n"
   ]
  }
 ],
 "metadata": {
  "kernelspec": {
   "display_name": "Python 3",
   "language": "python",
   "name": "python3"
  },
  "language_info": {
   "codemirror_mode": {
    "name": "ipython",
    "version": 3
   },
   "file_extension": ".py",
   "mimetype": "text/x-python",
   "name": "python",
   "nbconvert_exporter": "python",
   "pygments_lexer": "ipython3",
   "version": "3.7.2"
  }
 },
 "nbformat": 4,
 "nbformat_minor": 2
}
